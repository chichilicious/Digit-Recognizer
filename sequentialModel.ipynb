{
 "cells": [
  {
   "cell_type": "code",
   "execution_count": 1,
   "metadata": {
    "collapsed": true
   },
   "outputs": [],
   "source": [
    "import numpy as np\n",
    "import matplotlib.pyplot as plt\n",
    "\n",
    "%matplotlib inline"
   ]
  },
  {
   "cell_type": "code",
   "execution_count": 2,
   "metadata": {
    "collapsed": true
   },
   "outputs": [
    {
     "name": "stderr",
     "output_type": "stream",
     "text": [
      "Using TensorFlow backend.\n"
     ]
    }
   ],
   "source": [
    "from keras.models import Sequential\n",
    "from keras.layers.core import Dense\n",
    "from keras.optimizers import SGD\n",
    "\n",
    "nb_classes = 10"
   ]
  },
  {
   "cell_type": "code",
   "execution_count": 4,
   "metadata": {
    "collapsed": true
   },
   "outputs": [],
   "source": [
    "from keras.models import Sequential\n",
    "from keras.layers.core import Dense\n",
    "from keras.optimizers import SGD\n",
    "\n",
    "model = Sequential()\n",
    "model.add(Dense(512, activation='relu', input_shape=(784,)))\n",
    "model.add(Dense(512, activation='relu'))\n",
    "model.add(Dense(10, activation='softmax'))\n",
    "\n",
    "model.compile(loss='categorical_crossentropy', optimizer=SGD(lr=0.001), \n",
    "              metrics=['accuracy'])"
   ]
  },
  {
   "cell_type": "code",
   "execution_count": 5,
   "metadata": {
    "collapsed": true
   },
   "outputs": [
    {
     "name": "stdout",
     "output_type": "stream",
     "text": [
      "Downloading data from https://s3.amazonaws.com/img-datasets/mnist.npz\n",
      "11493376/11490434 [==============================] - 49s 4us/step\n"
     ]
    }
   ],
   "source": [
    "from keras.datasets import mnist\n",
    "from keras.utils import np_utils\n",
    "\n",
    "(X_train, y_train), (X_test, y_test) = mnist.load_data()"
   ]
  },
  {
   "cell_type": "code",
   "execution_count": 6,
   "metadata": {},
   "outputs": [
    {
     "data": {
      "text/plain": [
       "(60000, 28, 28)"
      ]
     },
     "execution_count": 6,
     "metadata": {},
     "output_type": "execute_result"
    }
   ],
   "source": [
    "X_train.shape"
   ]
  },
  {
   "cell_type": "code",
   "execution_count": 7,
   "metadata": {
    "collapsed": true
   },
   "outputs": [],
   "source": [
    "X_train = X_train.reshape(60000, 784)\n",
    "X_test = X_test.reshape(10000, 784)\n",
    "X_train = X_train.astype(\"float32\")\n",
    "X_test = X_test.astype(\"float32\")\n",
    "\n",
    "# Put everything on grayscale\n",
    "X_train /= 255\n",
    "X_test /= 255\n",
    "\n",
    "# convert class vectors to binary class matrices\n",
    "Y_train = np_utils.to_categorical(y_train, 10)\n",
    "Y_test = np_utils.to_categorical(y_test, 10)"
   ]
  },
  {
   "cell_type": "markdown",
   "metadata": {},
   "source": [
    "#### Split Training and Validation Data"
   ]
  },
  {
   "cell_type": "code",
   "execution_count": 8,
   "metadata": {
    "collapsed": true
   },
   "outputs": [],
   "source": [
    "from sklearn.model_selection import train_test_split\n",
    "\n",
    "X_train, X_val, Y_train, Y_val = train_test_split(X_train, Y_train)"
   ]
  },
  {
   "cell_type": "code",
   "execution_count": 9,
   "metadata": {},
   "outputs": [
    {
     "data": {
      "text/plain": [
       "(784,)"
      ]
     },
     "execution_count": 9,
     "metadata": {},
     "output_type": "execute_result"
    }
   ],
   "source": [
    "X_train[0].shape"
   ]
  },
  {
   "cell_type": "code",
   "execution_count": 10,
   "metadata": {},
   "outputs": [
    {
     "data": {
      "text/plain": [
       "<matplotlib.image.AxesImage at 0x7f2521f84860>"
      ]
     },
     "execution_count": 10,
     "metadata": {},
     "output_type": "execute_result"
    },
    {
     "data": {
      "image/png": "[encoded data removed]",
      "text/plain": [
       "<Figure size 432x288 with 1 Axes>"
      ]
     },
     "metadata": {
      "needs_background": "light"
     },
     "output_type": "display_data"
    }
   ],
   "source": [
    "plt.imshow(X_train[0].reshape(28, 28))"
   ]
  },
  {
   "cell_type": "code",
   "execution_count": 11,
   "metadata": {},
   "outputs": [
    {
     "name": "stdout",
     "output_type": "stream",
     "text": [
      "[0 1 2 3 4 5 6 7 8 9]\n",
      "[0 0 0 0 1 0 0 0 0 0]\n"
     ]
    }
   ],
   "source": [
    "print(np.asarray(range(10)))\n",
    "print(Y_train[0].astype('int'))"
   ]
  },
  {
   "cell_type": "code",
   "execution_count": 12,
   "metadata": {},
   "outputs": [
    {
     "data": {
      "text/plain": [
       "<matplotlib.image.AxesImage at 0x7f2521f17f98>"
      ]
     },
     "execution_count": 12,
     "metadata": {},
     "output_type": "execute_result"
    },
    {
     "data": {
      "image/png": "[encoded data removed]",
      "text/plain": [
       "<Figure size 432x288 with 1 Axes>"
      ]
     },
     "metadata": {
      "needs_background": "light"
     },
     "output_type": "display_data"
    }
   ],
   "source": [
    "plt.imshow(X_val[0].reshape(28, 28))"
   ]
  },
  {
   "cell_type": "code",
   "execution_count": 13,
   "metadata": {},
   "outputs": [
    {
     "name": "stdout",
     "output_type": "stream",
     "text": [
      "[0 1 2 3 4 5 6 7 8 9]\n",
      "[1 0 0 0 0 0 0 0 0 0]\n"
     ]
    }
   ],
   "source": [
    "print(np.asarray(range(10)))\n",
    "print(Y_val[0].astype('int'))"
   ]
  },
  {
   "cell_type": "code",
   "execution_count": 14,
   "metadata": {
    "scrolled": true
   },
   "outputs": [
    {
     "name": "stdout",
     "output_type": "stream",
     "text": [
      "Train on 45000 samples, validate on 15000 samples\n",
      "Epoch 1/2\n",
      "45000/45000 [==============================] - 8s 182us/step - loss: 2.1830 - acc: 0.2860 - val_loss: 2.0655 - val_acc: 0.4613\n",
      "Epoch 2/2\n",
      "45000/45000 [==============================] - 7s 157us/step - loss: 1.9453 - acc: 0.5901 - val_loss: 1.8314 - val_acc: 0.6611\n"
     ]
    }
   ],
   "source": [
    "network_history = model.fit(X_train, Y_train, batch_size=128, \n",
    "                            epochs=2, verbose=1, validation_data=(X_val, Y_val))"
   ]
  },
  {
   "cell_type": "markdown",
   "metadata": {},
   "source": [
    "### Plotting Network Performance Trend\n"
   ]
  },
  {
   "cell_type": "code",
   "execution_count": 15,
   "metadata": {},
   "outputs": [
    {
     "data": {
      "image/png": "[encoded data removed]",
      "text/plain": [
       "<Figure size 432x288 with 1 Axes>"
      ]
     },
     "metadata": {
      "needs_background": "light"
     },
     "output_type": "display_data"
    },
    {
     "data": {
      "image/png": "[encoded data removed]",
      "text/plain": [
       "<Figure size 432x288 with 1 Axes>"
      ]
     },
     "metadata": {
      "needs_background": "light"
     },
     "output_type": "display_data"
    }
   ],
   "source": [
    "import matplotlib.pyplot as plt\n",
    "%matplotlib inline\n",
    "\n",
    "def plot_history(network_history):\n",
    "    plt.figure()\n",
    "    plt.xlabel('Epochs')\n",
    "    plt.ylabel('Loss')\n",
    "    plt.plot(network_history.history['loss'])\n",
    "    plt.plot(network_history.history['val_loss'])\n",
    "    plt.legend(['Training', 'Validation'])\n",
    "\n",
    "    plt.figure()\n",
    "    plt.xlabel('Epochs')\n",
    "    plt.ylabel('Accuracy')\n",
    "    plt.plot(network_history.history['acc'])\n",
    "    plt.plot(network_history.history['val_acc'])\n",
    "    plt.legend(['Training', 'Validation'], loc='lower right')\n",
    "    plt.show()\n",
    "\n",
    "plot_history(network_history)"
   ]
  },
  {
   "cell_type": "code",
   "execution_count": 16,
   "metadata": {},
   "outputs": [
    {
     "name": "stdout",
     "output_type": "stream",
     "text": [
      "Train on 45000 samples, validate on 15000 samples\n",
      "Epoch 1/2\n",
      "45000/45000 [==============================] - 7s 161us/step - loss: 1.7064 - acc: 0.7078 - val_loss: 1.5912 - val_acc: 0.7277\n",
      "Epoch 2/2\n",
      "45000/45000 [==============================] - 7s 161us/step - loss: 1.4687 - acc: 0.7524 - val_loss: 1.3620 - val_acc: 0.7635\n"
     ]
    }
   ],
   "source": [
    "# Your code here\n",
    "model.compile(loss='categorical_crossentropy', optimizer=SGD(lr=0.001), \n",
    "              metrics=['accuracy'])\n",
    "network_history = model.fit(X_train, Y_train, batch_size=128, \n",
    "                            epochs=2, verbose=1, validation_data=(X_val, Y_val))"
   ]
  },
  {
   "cell_type": "code",
   "execution_count": 21,
   "metadata": {},
   "outputs": [
    {
     "name": "stdout",
     "output_type": "stream",
     "text": [
      "Train on 45000 samples, validate on 15000 samples\n",
      "Epoch 1/4\n",
      "45000/45000 [==============================] - 7s 154us/step - loss: 1.2534 - acc: 0.7810 - val_loss: 1.1658 - val_acc: 0.7833\n",
      "Epoch 2/4\n",
      "45000/45000 [==============================] - 8s 171us/step - loss: 1.0764 - acc: 0.8008 - val_loss: 1.0111 - val_acc: 0.8013\n",
      "Epoch 3/4\n",
      "45000/45000 [==============================] - 9s 209us/step - loss: 0.9394 - acc: 0.8173 - val_loss: 0.8934 - val_acc: 0.8161\n",
      "Epoch 4/4\n",
      "45000/45000 [==============================] - 9s 192us/step - loss: 0.8353 - acc: 0.8294 - val_loss: 0.8042 - val_acc: 0.8279\n"
     ]
    },
    {
     "data": {
      "image/png": "[encoded data removed]",
      "text/plain": [
       "<Figure size 432x288 with 1 Axes>"
      ]
     },
     "metadata": {
      "needs_background": "light"
     },
     "output_type": "display_data"
    },
    {
     "data": {
      "image/png": "[encoded data removed]",
      "text/plain": [
       "<Figure size 432x288 with 1 Axes>"
      ]
     },
     "metadata": {
      "needs_background": "light"
     },
     "output_type": "display_data"
    }
   ],
   "source": [
    "network_history = model.fit(X_train, Y_train, batch_size=128, \n",
    "                            epochs=4, verbose=1, validation_data=(X_val, Y_val))\n",
    "plot_history(network_history)"
   ]
  },
  {
   "cell_type": "code",
   "execution_count": 23,
   "metadata": {
    "collapsed": true
   },
   "outputs": [
    {
     "name": "stdout",
     "output_type": "stream",
     "text": [
      "Train on 45000 samples, validate on 10000 samples\n",
      "Epoch 1/20\n",
      "45000/45000 [==============================] - 10s 221us/step - loss: 1.3495 - acc: 0.6578 - val_loss: 0.6433 - val_acc: 0.8502\n",
      "Epoch 2/20\n",
      "45000/45000 [==============================] - 9s 207us/step - loss: 0.6049 - acc: 0.8359 - val_loss: 0.4264 - val_acc: 0.8880\n",
      "Epoch 3/20\n",
      "45000/45000 [==============================] - 10s 212us/step - loss: 0.4703 - acc: 0.8632 - val_loss: 0.3635 - val_acc: 0.8999\n",
      "Epoch 4/20\n",
      "45000/45000 [==============================] - 10s 220us/step - loss: 0.4126 - acc: 0.8819 - val_loss: 0.3272 - val_acc: 0.9089\n",
      "Epoch 5/20\n",
      "45000/45000 [==============================] - 9s 198us/step - loss: 0.3774 - acc: 0.8901 - val_loss: 0.3043 - val_acc: 0.9123\n",
      "Epoch 6/20\n",
      "45000/45000 [==============================] - 9s 200us/step - loss: 0.3521 - acc: 0.8984 - val_loss: 0.2850 - val_acc: 0.9200\n",
      "Epoch 7/20\n",
      "45000/45000 [==============================] - 9s 196us/step - loss: 0.3305 - acc: 0.9042 - val_loss: 0.2715 - val_acc: 0.9241\n",
      "Epoch 8/20\n",
      "45000/45000 [==============================] - 9s 194us/step - loss: 0.3130 - acc: 0.9097 - val_loss: 0.2590 - val_acc: 0.9279\n",
      "Epoch 9/20\n",
      "45000/45000 [==============================] - 9s 196us/step - loss: 0.2994 - acc: 0.9132 - val_loss: 0.2473 - val_acc: 0.9304\n",
      "Epoch 10/20\n",
      "45000/45000 [==============================] - 9s 206us/step - loss: 0.2857 - acc: 0.9173 - val_loss: 0.2374 - val_acc: 0.9325\n",
      "Epoch 11/20\n",
      "45000/45000 [==============================] - 10s 225us/step - loss: 0.2760 - acc: 0.9203 - val_loss: 0.2294 - val_acc: 0.9345\n",
      "Epoch 12/20\n",
      "45000/45000 [==============================] - 10s 219us/step - loss: 0.2631 - acc: 0.9244 - val_loss: 0.2219 - val_acc: 0.9375\n",
      "Epoch 13/20\n",
      "45000/45000 [==============================] - 9s 209us/step - loss: 0.2544 - acc: 0.9267 - val_loss: 0.2145 - val_acc: 0.9400\n",
      "Epoch 14/20\n",
      "45000/45000 [==============================] - 10s 212us/step - loss: 0.2445 - acc: 0.9300 - val_loss: 0.2072 - val_acc: 0.9412\n",
      "Epoch 15/20\n",
      "45000/45000 [==============================] - 10s 219us/step - loss: 0.2369 - acc: 0.9313 - val_loss: 0.2001 - val_acc: 0.9442\n",
      "Epoch 16/20\n",
      "45000/45000 [==============================] - 13s 278us/step - loss: 0.2309 - acc: 0.9341 - val_loss: 0.1954 - val_acc: 0.9443\n",
      "Epoch 17/20\n",
      "45000/45000 [==============================] - 14s 313us/step - loss: 0.2241 - acc: 0.9356 - val_loss: 0.1893 - val_acc: 0.9463\n",
      "Epoch 18/20\n",
      "45000/45000 [==============================] - 12s 260us/step - loss: 0.2157 - acc: 0.9377 - val_loss: 0.1834 - val_acc: 0.9480\n",
      "Epoch 19/20\n",
      "45000/45000 [==============================] - 12s 274us/step - loss: 0.2085 - acc: 0.9403 - val_loss: 0.1797 - val_acc: 0.9488\n",
      "Epoch 20/20\n",
      "45000/45000 [==============================] - 11s 238us/step - loss: 0.2035 - acc: 0.9422 - val_loss: 0.1742 - val_acc: 0.9495\n"
     ]
    },
    {
     "data": {
      "text/plain": [
       "<keras.callbacks.History at 0x7f2518e061d0>"
      ]
     },
     "execution_count": 23,
     "metadata": {},
     "output_type": "execute_result"
    }
   ],
   "source": [
    "# %load solutions/sol23.py\n",
    "from keras.layers.core import Dropout\n",
    "from keras import backend as K\n",
    "from keras.callbacks import EarlyStopping\n",
    "\n",
    "early_stop = EarlyStopping(monitor='val_loss', patience=4, verbose=1)\n",
    "\n",
    "model = Sequential()\n",
    "model.add(Dense(512, activation='relu', input_shape=(784,)))\n",
    "model.add(Dropout(0.2))\n",
    "model.add(Dense(512, activation='relu'))\n",
    "model.add(Dropout(0.2))\n",
    "model.add(Dense(10, activation='softmax'))\n",
    "\n",
    "model.compile(loss='categorical_crossentropy', optimizer=SGD(), \n",
    "              metrics=['accuracy'])\n",
    "    \n",
    "model.fit(X_train, Y_train, validation_data = (X_test, Y_test), epochs=20, \n",
    "          batch_size=128, verbose=True, callbacks=[early_stop]) "
   ]
  },
  {
   "cell_type": "markdown",
   "metadata": {},
   "source": [
    "---"
   ]
  },
  {
   "cell_type": "markdown",
   "metadata": {},
   "source": [
    "### `model.layers` is iterable"
   ]
  },
  {
   "cell_type": "code",
   "execution_count": 26,
   "metadata": {
    "collapsed": true
   },
   "outputs": [],
   "source": [
    "model_truncated = Sequential()\n",
    "model_truncated.add(Dense(512, activation='relu', input_shape=(784,)))\n",
    "model_truncated.add(Dropout(0.2))\n",
    "model_truncated.add(Dense(512, activation='relu'))\n",
    "\n",
    "for i, layer in enumerate(model_truncated.layers):\n",
    "    layer.set_weights(model.layers[i].get_weights())\n",
    "\n",
    "model_truncated.compile(loss='categorical_crossentropy', optimizer=SGD(), \n",
    "              metrics=['accuracy'])"
   ]
  },
  {
   "cell_type": "code",
   "execution_count": 27,
   "metadata": {},
   "outputs": [
    {
     "data": {
      "text/plain": [
       "True"
      ]
     },
     "execution_count": 27,
     "metadata": {},
     "output_type": "execute_result"
    }
   ],
   "source": [
    "# Check\n",
    "np.all(model_truncated.layers[0].get_weights()[0] == model.layers[0].get_weights()[0])"
   ]
  },
  {
   "cell_type": "code",
   "execution_count": 28,
   "metadata": {
    "collapsed": true
   },
   "outputs": [],
   "source": [
    "hidden_features = model_truncated.predict(X_train)"
   ]
  },
  {
   "cell_type": "code",
   "execution_count": 29,
   "metadata": {},
   "outputs": [
    {
     "data": {
      "text/plain": [
       "(45000, 512)"
      ]
     },
     "execution_count": 29,
     "metadata": {},
     "output_type": "execute_result"
    }
   ],
   "source": [
    "hidden_features.shape"
   ]
  },
  {
   "cell_type": "code",
   "execution_count": 30,
   "metadata": {},
   "outputs": [
    {
     "data": {
      "text/plain": [
       "(45000, 784)"
      ]
     },
     "execution_count": 30,
     "metadata": {},
     "output_type": "execute_result"
    }
   ],
   "source": [
    "X_train.shape"
   ]
  },
  {
   "cell_type": "markdown",
   "metadata": {},
   "source": [
    "---"
   ]
  },
  {
   "cell_type": "markdown",
   "metadata": {},
   "source": [
    "### Generate the Embedding of Hidden Features"
   ]
  },
  {
   "cell_type": "code",
   "execution_count": 31,
   "metadata": {
    "collapsed": true
   },
   "outputs": [],
   "source": [
    "from sklearn.manifold import TSNE\n",
    "\n",
    "tsne = TSNE(n_components=2)\n",
    "X_tsne = tsne.fit_transform(hidden_features[:1000]) ## Reduced for computational issues"
   ]
  },
  {
   "cell_type": "code",
   "execution_count": 32,
   "metadata": {
    "collapsed": true
   },
   "outputs": [],
   "source": [
    "colors_map = np.argmax(Y_train, axis=1)"
   ]
  },
  {
   "cell_type": "code",
   "execution_count": 33,
   "metadata": {},
   "outputs": [
    {
     "data": {
      "text/plain": [
       "(1000, 2)"
      ]
     },
     "execution_count": 33,
     "metadata": {},
     "output_type": "execute_result"
    }
   ],
   "source": [
    "X_tsne.shape"
   ]
  },
  {
   "cell_type": "code",
   "execution_count": 34,
   "metadata": {},
   "outputs": [
    {
     "data": {
      "text/plain": [
       "10"
      ]
     },
     "execution_count": 34,
     "metadata": {},
     "output_type": "execute_result"
    }
   ],
   "source": [
    "nb_classes"
   ]
  },
  {
   "cell_type": "code",
   "execution_count": 35,
   "metadata": {},
   "outputs": [
    {
     "data": {
      "text/plain": [
       "(array([    6,    11,    16, ..., 44951, 44956, 44970]),)"
      ]
     },
     "execution_count": 35,
     "metadata": {},
     "output_type": "execute_result"
    }
   ],
   "source": [
    "np.where(colors_map==6)"
   ]
  },
  {
   "cell_type": "code",
   "execution_count": 36,
   "metadata": {},
   "outputs": [
    {
     "data": {
      "image/png": "[encoded data removed]",
      "text/plain": [
       "<Figure size 720x720 with 1 Axes>"
      ]
     },
     "metadata": {
      "needs_background": "light"
     },
     "output_type": "display_data"
    }
   ],
   "source": [
    "colors = np.array([x for x in 'b-g-r-c-m-y-k-purple-coral-lime'.split('-')])\n",
    "colors_map = colors_map[:1000]\n",
    "plt.figure(figsize=(10,10))\n",
    "for cl in range(nb_classes):\n",
    "    indices = np.where(colors_map==cl)\n",
    "    plt.scatter(X_tsne[indices,0], X_tsne[indices, 1], c=colors[cl], label=cl)\n",
    "plt.legend()\n",
    "plt.show()"
   ]
  },
  {
   "cell_type": "markdown",
   "metadata": {},
   "source": [
    "## Using Bokeh (Interactive Chart)"
   ]
  },
  {
   "cell_type": "code",
   "execution_count": 40,
   "metadata": {},
   "outputs": [
    {
     "data": {
      "text/html": [
       "\n",
       "    <div class=\"bk-root\">\n",
       "        <a href=\"https://bokeh.pydata.org\" target=\"_blank\" class=\"bk-logo bk-logo-small bk-logo-notebook\"></a>\n",
       "        <span id=\"12cc8fba-32b0-4a73-98f0-09fa90eb7a4b\">Loading BokehJS ...</span>\n",
       "    </div>"
      ]
     },
     "metadata": {},
     "output_type": "display_data"
    },
    {
     "data": {
      "application/javascript": [
       "\n",
       "(function(root) {\n",
       "  function now() {\n",
       "    return new Date();\n",
       "  }\n",
       "\n",
       "  var force = true;\n",
       "\n",
       "  if (typeof (root._bokeh_onload_callbacks) === \"undefined\" || force === true) {\n",
       "    root._bokeh_onload_callbacks = [];\n",
       "    root._bokeh_is_loading = undefined;\n",
       "  }\n",
       "\n",
       "  var JS_MIME_TYPE = 'application/javascript';\n",
       "  var HTML_MIME_TYPE = 'text/html';\n",
       "  var EXEC_MIME_TYPE = 'application/vnd.bokehjs_exec.v0+json';\n",
       "  var CLASS_NAME = 'output_bokeh rendered_html';\n",
       "\n",
       "  /**\n",
       "   * Render data to the DOM node\n",
       "   */\n",
       "  function render(props, node) {\n",
       "    var script = document.createElement(\"script\");\n",
       "    node.appendChild(script);\n",
       "  }\n",
       "\n",
       "  /**\n",
       "   * Handle when an output is cleared or removed\n",
       "   */\n",
       "  function handleClearOutput(event, handle) {\n",
       "    var cell = handle.cell;\n",
       "\n",
       "    var id = cell.output_area._bokeh_element_id;\n",
       "    var server_id = cell.output_area._bokeh_server_id;\n",
       "    // Clean up Bokeh references\n",
       "    if (id != null && id in Bokeh.index) {\n",
       "      Bokeh.index[id].model.document.clear();\n",
       "      delete Bokeh.index[id];\n",
       "    }\n",
       "\n",
       "    if (server_id !== undefined) {\n",
       "      // Clean up Bokeh references\n",
       "      var cmd = \"from bokeh.io.state import curstate; print(curstate().uuid_to_server['\" + server_id + \"'].get_sessions()[0].document.roots[0]._id)\";\n",
       "      cell.notebook.kernel.execute(cmd, {\n",
       "        iopub: {\n",
       "          output: function(msg) {\n",
       "            var id = msg.content.text.trim();\n",
       "            if (id in Bokeh.index) {\n",
       "              Bokeh.index[id].model.document.clear();\n",
       "              delete Bokeh.index[id];\n",
       "            }\n",
       "          }\n",
       "        }\n",
       "      });\n",
       "      // Destroy server and session\n",
       "      var cmd = \"import bokeh.io.notebook as ion; ion.destroy_server('\" + server_id + \"')\";\n",
       "      cell.notebook.kernel.execute(cmd);\n",
       "    }\n",
       "  }\n",
       "\n",
       "  /**\n",
       "   * Handle when a new output is added\n",
       "   */\n",
       "  function handleAddOutput(event, handle) {\n",
       "    var output_area = handle.output_area;\n",
       "    var output = handle.output;\n",
       "\n",
       "    // limit handleAddOutput to display_data with EXEC_MIME_TYPE content only\n",
       "    if ((output.output_type != \"display_data\") || (!output.data.hasOwnProperty(EXEC_MIME_TYPE))) {\n",
       "      return\n",
       "    }\n",
       "\n",
       "    var toinsert = output_area.element.find(\".\" + CLASS_NAME.split(' ')[0]);\n",
       "\n",
       "    if (output.metadata[EXEC_MIME_TYPE][\"id\"] !== undefined) {\n",
       "      toinsert[toinsert.length - 1].firstChild.textContent = output.data[JS_MIME_TYPE];\n",
       "      // store reference to embed id on output_area\n",
       "      output_area._bokeh_element_id = output.metadata[EXEC_MIME_TYPE][\"id\"];\n",
       "    }\n",
       "    if (output.metadata[EXEC_MIME_TYPE][\"server_id\"] !== undefined) {\n",
       "      var bk_div = document.createElement(\"div\");\n",
       "      bk_div.innerHTML = output.data[HTML_MIME_TYPE];\n",
       "      var script_attrs = bk_div.children[0].attributes;\n",
       "      for (var i = 0; i < script_attrs.length; i++) {\n",
       "        toinsert[toinsert.length - 1].firstChild.setAttribute(script_attrs[i].name, script_attrs[i].value);\n",
       "      }\n",
       "      // store reference to server id on output_area\n",
       "      output_area._bokeh_server_id = output.metadata[EXEC_MIME_TYPE][\"server_id\"];\n",
       "    }\n",
       "  }\n",
       "\n",
       "  function register_renderer(events, OutputArea) {\n",
       "\n",
       "    function append_mime(data, metadata, element) {\n",
       "      // create a DOM node to render to\n",
       "      var toinsert = this.create_output_subarea(\n",
       "        metadata,\n",
       "        CLASS_NAME,\n",
       "        EXEC_MIME_TYPE\n",
       "      );\n",
       "      this.keyboard_manager.register_events(toinsert);\n",
       "      // Render to node\n",
       "      var props = {data: data, metadata: metadata[EXEC_MIME_TYPE]};\n",
       "      render(props, toinsert[toinsert.length - 1]);\n",
       "      element.append(toinsert);\n",
       "      return toinsert\n",
       "    }\n",
       "\n",
       "    /* Handle when an output is cleared or removed */\n",
       "    events.on('clear_output.CodeCell', handleClearOutput);\n",
       "    events.on('delete.Cell', handleClearOutput);\n",
       "\n",
       "    /* Handle when a new output is added */\n",
       "    events.on('output_added.OutputArea', handleAddOutput);\n",
       "\n",
       "    /**\n",
       "     * Register the mime type and append_mime function with output_area\n",
       "     */\n",
       "    OutputArea.prototype.register_mime_type(EXEC_MIME_TYPE, append_mime, {\n",
       "      /* Is output safe? */\n",
       "      safe: true,\n",
       "      /* Index of renderer in `output_area.display_order` */\n",
       "      index: 0\n",
       "    });\n",
       "  }\n",
       "\n",
       "  // register the mime type if in Jupyter Notebook environment and previously unregistered\n",
       "  if (root.Jupyter !== undefined) {\n",
       "    var events = require('base/js/events');\n",
       "    var OutputArea = require('notebook/js/outputarea').OutputArea;\n",
       "\n",
       "    if (OutputArea.prototype.mime_types().indexOf(EXEC_MIME_TYPE) == -1) {\n",
       "      register_renderer(events, OutputArea);\n",
       "    }\n",
       "  }\n",
       "\n",
       "  \n",
       "  if (typeof (root._bokeh_timeout) === \"undefined\" || force === true) {\n",
       "    root._bokeh_timeout = Date.now() + 5000;\n",
       "    root._bokeh_failed_load = false;\n",
       "  }\n",
       "\n",
       "  var NB_LOAD_WARNING = {'data': {'text/html':\n",
       "     \"<div style='background-color: #fdd'>\\n\"+\n",
       "     \"<p>\\n\"+\n",
       "     \"BokehJS does not appear to have successfully loaded. If loading BokehJS from CDN, this \\n\"+\n",
       "     \"may be due to a slow or bad network connection. Possible fixes:\\n\"+\n",
       "     \"</p>\\n\"+\n",
       "     \"<ul>\\n\"+\n",
       "     \"<li>re-rerun `output_notebook()` to attempt to load from CDN again, or</li>\\n\"+\n",
       "     \"<li>use INLINE resources instead, as so:</li>\\n\"+\n",
       "     \"</ul>\\n\"+\n",
       "     \"<code>\\n\"+\n",
       "     \"from bokeh.resources import INLINE\\n\"+\n",
       "     \"output_notebook(resources=INLINE)\\n\"+\n",
       "     \"</code>\\n\"+\n",
       "     \"</div>\"}};\n",
       "\n",
       "  function display_loaded() {\n",
       "    var el = document.getElementById(\"12cc8fba-32b0-4a73-98f0-09fa90eb7a4b\");\n",
       "    if (el != null) {\n",
       "      el.textContent = \"BokehJS is loading...\";\n",
       "    }\n",
       "    if (root.Bokeh !== undefined) {\n",
       "      if (el != null) {\n",
       "        el.textContent = \"BokehJS \" + root.Bokeh.version + \" successfully loaded.\";\n",
       "      }\n",
       "    } else if (Date.now() < root._bokeh_timeout) {\n",
       "      setTimeout(display_loaded, 100)\n",
       "    }\n",
       "  }\n",
       "\n",
       "\n",
       "  function run_callbacks() {\n",
       "    try {\n",
       "      root._bokeh_onload_callbacks.forEach(function(callback) { callback() });\n",
       "    }\n",
       "    finally {\n",
       "      delete root._bokeh_onload_callbacks\n",
       "    }\n",
       "    console.info(\"Bokeh: all callbacks have finished\");\n",
       "  }\n",
       "\n",
       "  function load_libs(js_urls, callback) {\n",
       "    root._bokeh_onload_callbacks.push(callback);\n",
       "    if (root._bokeh_is_loading > 0) {\n",
       "      console.log(\"Bokeh: BokehJS is being loaded, scheduling callback at\", now());\n",
       "      return null;\n",
       "    }\n",
       "    if (js_urls == null || js_urls.length === 0) {\n",
       "      run_callbacks();\n",
       "      return null;\n",
       "    }\n",
       "    console.log(\"Bokeh: BokehJS not loaded, scheduling load and callback at\", now());\n",
       "    root._bokeh_is_loading = js_urls.length;\n",
       "    for (var i = 0; i < js_urls.length; i++) {\n",
       "      var url = js_urls[i];\n",
       "      var s = document.createElement('script');\n",
       "      s.src = url;\n",
       "      s.async = false;\n",
       "      s.onreadystatechange = s.onload = function() {\n",
       "        root._bokeh_is_loading--;\n",
       "        if (root._bokeh_is_loading === 0) {\n",
       "          console.log(\"Bokeh: all BokehJS libraries loaded\");\n",
       "          run_callbacks()\n",
       "        }\n",
       "      };\n",
       "      s.onerror = function() {\n",
       "        console.warn(\"failed to load library \" + url);\n",
       "      };\n",
       "      console.log(\"Bokeh: injecting script tag for BokehJS library: \", url);\n",
       "      document.getElementsByTagName(\"head\")[0].appendChild(s);\n",
       "    }\n",
       "  };var element = document.getElementById(\"12cc8fba-32b0-4a73-98f0-09fa90eb7a4b\");\n",
       "  if (element == null) {\n",
       "    console.log(\"Bokeh: ERROR: autoload.js configured with elementid '12cc8fba-32b0-4a73-98f0-09fa90eb7a4b' but no matching script tag was found. \")\n",
       "    return false;\n",
       "  }\n",
       "\n",
       "  var js_urls = [\"https://cdn.pydata.org/bokeh/release/bokeh-0.13.0.min.js\", \"https://cdn.pydata.org/bokeh/release/bokeh-widgets-0.13.0.min.js\", \"https://cdn.pydata.org/bokeh/release/bokeh-tables-0.13.0.min.js\", \"https://cdn.pydata.org/bokeh/release/bokeh-gl-0.13.0.min.js\"];\n",
       "\n",
       "  var inline_js = [\n",
       "    function(Bokeh) {\n",
       "      Bokeh.set_log_level(\"info\");\n",
       "    },\n",
       "    \n",
       "    function(Bokeh) {\n",
       "      \n",
       "    },\n",
       "    function(Bokeh) {\n",
       "      console.log(\"Bokeh: injecting CSS: https://cdn.pydata.org/bokeh/release/bokeh-0.13.0.min.css\");\n",
       "      Bokeh.embed.inject_css(\"https://cdn.pydata.org/bokeh/release/bokeh-0.13.0.min.css\");\n",
       "      console.log(\"Bokeh: injecting CSS: https://cdn.pydata.org/bokeh/release/bokeh-widgets-0.13.0.min.css\");\n",
       "      Bokeh.embed.inject_css(\"https://cdn.pydata.org/bokeh/release/bokeh-widgets-0.13.0.min.css\");\n",
       "      console.log(\"Bokeh: injecting CSS: https://cdn.pydata.org/bokeh/release/bokeh-tables-0.13.0.min.css\");\n",
       "      Bokeh.embed.inject_css(\"https://cdn.pydata.org/bokeh/release/bokeh-tables-0.13.0.min.css\");\n",
       "    }\n",
       "  ];\n",
       "\n",
       "  function run_inline_js() {\n",
       "    \n",
       "    if ((root.Bokeh !== undefined) || (force === true)) {\n",
       "      for (var i = 0; i < inline_js.length; i++) {\n",
       "        inline_js[i].call(root, root.Bokeh);\n",
       "      }if (force === true) {\n",
       "        display_loaded();\n",
       "      }} else if (Date.now() < root._bokeh_timeout) {\n",
       "      setTimeout(run_inline_js, 100);\n",
       "    } else if (!root._bokeh_failed_load) {\n",
       "      console.log(\"Bokeh: BokehJS failed to load within specified timeout.\");\n",
       "      root._bokeh_failed_load = true;\n",
       "    } else if (force !== true) {\n",
       "      var cell = $(document.getElementById(\"12cc8fba-32b0-4a73-98f0-09fa90eb7a4b\")).parents('.cell').data().cell;\n",
       "      cell.output_area.append_execute_result(NB_LOAD_WARNING)\n",
       "    }\n",
       "\n",
       "  }\n",
       "\n",
       "  if (root._bokeh_is_loading === 0) {\n",
       "    console.log(\"Bokeh: BokehJS loaded, going straight to plotting\");\n",
       "    run_inline_js();\n",
       "  } else {\n",
       "    load_libs(js_urls, function() {\n",
       "      console.log(\"Bokeh: BokehJS plotting callback run at\", now());\n",
       "      run_inline_js();\n",
       "    });\n",
       "  }\n",
       "}(window));"
      ],
      "application/vnd.bokehjs_load.v0+json": "\n(function(root) {\n  function now() {\n    return new Date();\n  }\n\n  var force = true;\n\n  if (typeof (root._bokeh_onload_callbacks) === \"undefined\" || force === true) {\n    root._bokeh_onload_callbacks = [];\n    root._bokeh_is_loading = undefined;\n  }\n\n  \n\n  \n  if (typeof (root._bokeh_timeout) === \"undefined\" || force === true) {\n    root._bokeh_timeout = Date.now() + 5000;\n    root._bokeh_failed_load = false;\n  }\n\n  var NB_LOAD_WARNING = {'data': {'text/html':\n     \"<div style='background-color: #fdd'>\\n\"+\n     \"<p>\\n\"+\n     \"BokehJS does not appear to have successfully loaded. If loading BokehJS from CDN, this \\n\"+\n     \"may be due to a slow or bad network connection. Possible fixes:\\n\"+\n     \"</p>\\n\"+\n     \"<ul>\\n\"+\n     \"<li>re-rerun `output_notebook()` to attempt to load from CDN again, or</li>\\n\"+\n     \"<li>use INLINE resources instead, as so:</li>\\n\"+\n     \"</ul>\\n\"+\n     \"<code>\\n\"+\n     \"from bokeh.resources import INLINE\\n\"+\n     \"output_notebook(resources=INLINE)\\n\"+\n     \"</code>\\n\"+\n     \"</div>\"}};\n\n  function display_loaded() {\n    var el = document.getElementById(\"12cc8fba-32b0-4a73-98f0-09fa90eb7a4b\");\n    if (el != null) {\n      el.textContent = \"BokehJS is loading...\";\n    }\n    if (root.Bokeh !== undefined) {\n      if (el != null) {\n        el.textContent = \"BokehJS \" + root.Bokeh.version + \" successfully loaded.\";\n      }\n    } else if (Date.now() < root._bokeh_timeout) {\n      setTimeout(display_loaded, 100)\n    }\n  }\n\n\n  function run_callbacks() {\n    try {\n      root._bokeh_onload_callbacks.forEach(function(callback) { callback() });\n    }\n    finally {\n      delete root._bokeh_onload_callbacks\n    }\n    console.info(\"Bokeh: all callbacks have finished\");\n  }\n\n  function load_libs(js_urls, callback) {\n    root._bokeh_onload_callbacks.push(callback);\n    if (root._bokeh_is_loading > 0) {\n      console.log(\"Bokeh: BokehJS is being loaded, scheduling callback at\", now());\n      return null;\n    }\n    if (js_urls == null || js_urls.length === 0) {\n      run_callbacks();\n      return null;\n    }\n    console.log(\"Bokeh: BokehJS not loaded, scheduling load and callback at\", now());\n    root._bokeh_is_loading = js_urls.length;\n    for (var i = 0; i < js_urls.length; i++) {\n      var url = js_urls[i];\n      var s = document.createElement('script');\n      s.src = url;\n      s.async = false;\n      s.onreadystatechange = s.onload = function() {\n        root._bokeh_is_loading--;\n        if (root._bokeh_is_loading === 0) {\n          console.log(\"Bokeh: all BokehJS libraries loaded\");\n          run_callbacks()\n        }\n      };\n      s.onerror = function() {\n        console.warn(\"failed to load library \" + url);\n      };\n      console.log(\"Bokeh: injecting script tag for BokehJS library: \", url);\n      document.getElementsByTagName(\"head\")[0].appendChild(s);\n    }\n  };var element = document.getElementById(\"12cc8fba-32b0-4a73-98f0-09fa90eb7a4b\");\n  if (element == null) {\n    console.log(\"Bokeh: ERROR: autoload.js configured with elementid '12cc8fba-32b0-4a73-98f0-09fa90eb7a4b' but no matching script tag was found. \")\n    return false;\n  }\n\n  var js_urls = [\"https://cdn.pydata.org/bokeh/release/bokeh-0.13.0.min.js\", \"https://cdn.pydata.org/bokeh/release/bokeh-widgets-0.13.0.min.js\", \"https://cdn.pydata.org/bokeh/release/bokeh-tables-0.13.0.min.js\", \"https://cdn.pydata.org/bokeh/release/bokeh-gl-0.13.0.min.js\"];\n\n  var inline_js = [\n    function(Bokeh) {\n      Bokeh.set_log_level(\"info\");\n    },\n    \n    function(Bokeh) {\n      \n    },\n    function(Bokeh) {\n      console.log(\"Bokeh: injecting CSS: https://cdn.pydata.org/bokeh/release/bokeh-0.13.0.min.css\");\n      Bokeh.embed.inject_css(\"https://cdn.pydata.org/bokeh/release/bokeh-0.13.0.min.css\");\n      console.log(\"Bokeh: injecting CSS: https://cdn.pydata.org/bokeh/release/bokeh-widgets-0.13.0.min.css\");\n      Bokeh.embed.inject_css(\"https://cdn.pydata.org/bokeh/release/bokeh-widgets-0.13.0.min.css\");\n      console.log(\"Bokeh: injecting CSS: https://cdn.pydata.org/bokeh/release/bokeh-tables-0.13.0.min.css\");\n      Bokeh.embed.inject_css(\"https://cdn.pydata.org/bokeh/release/bokeh-tables-0.13.0.min.css\");\n    }\n  ];\n\n  function run_inline_js() {\n    \n    if ((root.Bokeh !== undefined) || (force === true)) {\n      for (var i = 0; i < inline_js.length; i++) {\n        inline_js[i].call(root, root.Bokeh);\n      }if (force === true) {\n        display_loaded();\n      }} else if (Date.now() < root._bokeh_timeout) {\n      setTimeout(run_inline_js, 100);\n    } else if (!root._bokeh_failed_load) {\n      console.log(\"Bokeh: BokehJS failed to load within specified timeout.\");\n      root._bokeh_failed_load = true;\n    } else if (force !== true) {\n      var cell = $(document.getElementById(\"12cc8fba-32b0-4a73-98f0-09fa90eb7a4b\")).parents('.cell').data().cell;\n      cell.output_area.append_execute_result(NB_LOAD_WARNING)\n    }\n\n  }\n\n  if (root._bokeh_is_loading === 0) {\n    console.log(\"Bokeh: BokehJS loaded, going straight to plotting\");\n    run_inline_js();\n  } else {\n    load_libs(js_urls, function() {\n      console.log(\"Bokeh: BokehJS plotting callback run at\", now());\n      run_inline_js();\n    });\n  }\n}(window));"
     },
     "metadata": {},
     "output_type": "display_data"
    }
   ],
   "source": [
    "from bokeh.plotting import figure, output_notebook, show\n",
    "\n",
    "output_notebook()"
   ]
  },
  {
   "cell_type": "code",
   "execution_count": 41,
   "metadata": {},
   "outputs": [
    {
     "data": {
      "text/html": [
       "\n",
       "\n",
       "\n",
       "\n",
       "\n",
       "\n",
       "  <div class=\"bk-root\" id=\"c5ee1a5d-2e10-4544-aff0-8e50e42a5543\"></div>\n"
      ]
     },
     "metadata": {},
     "output_type": "display_data"
    },
    {
     "data": {
      "application/javascript": [
       "(function(root) {\n",
       "  function embed_document(root) {\n",
       "    \n",
       "  var docs_json = {\"012d3dfb-0cd7-4b18-a33c-e394619926b9\":{\"roots\":{\"references\":[{\"attributes\":{\"source\":{\"id\":\"6b7b8261-c568-4bed-a799-88f0dc75cac2\",\"type\":\"ColumnDataSource\"}},\"id\":\"abda4dac-6748-4041-bc5d-1912b1f035d5\",\"type\":\"CDSView\"},{\"attributes\":{\"bottom_units\":\"screen\",\"fill_alpha\":{\"value\":0.5},\"fill_color\":{\"value\":\"lightgrey\"},\"left_units\":\"screen\",\"level\":\"overlay\",\"line_alpha\":{\"value\":1.0},\"line_color\":{\"value\":\"black\"},\"line_dash\":[4,4],\"line_width\":{\"value\":2},\"plot\":null,\"render_mode\":\"css\",\"right_units\":\"screen\",\"top_units\":\"screen\"},\"id\":\"4537f771-310c-4804-80aa-970a0160588c\",\"type\":\"BoxAnnotation\"},{\"attributes\":{},\"id\":\"fe9ff525-4996-4dfe-8462-957a1d576d3c\",\"type\":\"Selection\"},{\"attributes\":{},\"id\":\"689c5327-12d8-4c63-b38a-7d7b7a31ada6\",\"type\":\"PanTool\"},{\"attributes\":{},\"id\":\"0bf5fd40-c3cb-4da3-8d89-e55f2fb6b0a5\",\"type\":\"UnionRenderers\"},{\"attributes\":{\"label\":{\"value\":\"6\"},\"renderers\":[{\"id\":\"30f4a790-9c62-4d25-8c12-2c919acd40eb\",\"type\":\"GlyphRenderer\"}]},\"id\":\"0439525c-ec8b-4292-bef1-b3b5b024e25b\",\"type\":\"LegendItem\"},{\"attributes\":{},\"id\":\"bcdec603-b729-407c-9464-5160b1025655\",\"type\":\"WheelZoomTool\"},{\"attributes\":{\"callback\":null,\"data\":{\"x\":{\"__ndarray__\":\"U76eQYNe1EFHZ+lBakCVQXIF2kGnLIVBB7DVQcWv00Ha69tBzoLBQbCyyEE8XtlB4KqMQWz4pkENuJVBNFLmQVVRcUFF+tNBScrjQYW98UGORvFBg2DmQe83w0EuZaBB1THjQYaZjUGJbJ1B1LW7QTRdtEEbM8lBcBWPQbbm1EFChrpB57LUQeO/skEnPNdBTQzmQYtNG8ICc45BCJvkQS8Ri0ERhrxB6JzSQTEe5kFV3vVBVeHrQWCUxEGaxNdBp+3uQdN9BUJCe3lBoqHaQWCs20EnLqRBjzCmQaCmqUFAc7RB4ULiQdMZikFGqeFBqQiXQc2Ym0G2mJ9BdXPoQS/4okF6L61BlPnKQcu+0UFJTchBLDbzQWeAzEG+f+VBXPO9Qa0b1EFRgMZBaRDzQbz4z0Gsa+VB7SX0QQ0A1EF+/9hBV+aYQdli2UFxap9BW4q8QQQOqkGFV65BXqfVQeHsoEEUR7ZBFEjGQYeHo0FRSeZBT/aFQZ7k8UFH9+BBK3LNQS27m0E5Ke5B0U4GQrkKt0HB2qxBYLq2QY491UHKyNxBA8TbQTZnykF2ieBBH6K1QRz0jUG1W/VBuRbMQaUJ5UE=\",\"dtype\":\"float32\",\"shape\":[113]},\"y\":{\"__ndarray__\":\"0Nt9wdtmgcEBYkzBn8cYwfFElcGAhyHBAeQewSMHzsDSDuvA87oBwVlm78Bri2vBgGv/wEkXD8EDMETBusSPwYOx/sDWCPjAl0WOwVjG68B58y3B+swgwWP4hMEcLoDBZItowU708cCDpGDBXuhvwZ/8a8EWd4zByaApwdCjZMHU6GHBEnUpwVgaSMH5swvBc9oiwRmuc0GZ8h/B88hFwWzPPcF1MGbBA77iwLmopMA8ox7B+7VEQXF9Q8HTUYXBuiFowX9IzkGOkQXB2CRXwbKadsE6mxbBE2l9wbrFf8G8klbBW53WwAvOVMExhlLBpS4XwTtEIsGXIODAQO5vwakIKMHIFz/BzjkswQMijcF2rmbBntdMwaNvXsHZ44HB2wR3wUZ1D8GqfyHBBKwGwRr1MMG10HfBkQDSwJGKVcEpQ+LA80NtwYE+A8HNyE/BVVSFwaHeG8GLnAzBYWuWwLv18cAQ61PBR9JEwaw1BMHjcw7B5wwHwUVA3sC1pgXB/gKNwZ8BLsH6nQbBrNDev/LNiMH4ryvB6meBwQPWP8FmhbfAOQwVwX9qFsEwuG7B091hwYynXcF9UT/BJdNYwZNRgsE=\",\"dtype\":\"float32\",\"shape\":[113]}},\"selected\":{\"id\":\"0158c0af-1639-4720-b6e3-a2b548f6cecc\",\"type\":\"Selection\"},\"selection_policy\":{\"id\":\"77b4870e-8392-4563-a6a2-d690ade56056\",\"type\":\"UnionRenderers\"}},\"id\":\"edf0f35a-ac20-4171-bc40-fd10a618274b\",\"type\":\"ColumnDataSource\"},{\"attributes\":{\"overlay\":{\"id\":\"4537f771-310c-4804-80aa-970a0160588c\",\"type\":\"BoxAnnotation\"}},\"id\":\"cb2103f9-37a2-477e-9bd2-08c1d95c41b4\",\"type\":\"BoxZoomTool\"},{\"attributes\":{\"fill_alpha\":{\"value\":0.1},\"fill_color\":{\"value\":\"#1f77b4\"},\"line_alpha\":{\"value\":0.1},\"line_color\":{\"value\":\"#1f77b4\"},\"size\":{\"units\":\"screen\",\"value\":7},\"x\":{\"field\":\"x\"},\"y\":{\"field\":\"y\"}},\"id\":\"5a2d01ed-3610-498d-a6da-7c4b2a9f70e1\",\"type\":\"Circle\"},{\"attributes\":{},\"id\":\"9fb16dd5-988a-46b7-acaf-f8df0b5b5d5d\",\"type\":\"SaveTool\"},{\"attributes\":{},\"id\":\"133fd673-51bc-4451-9cbc-0cfb13c5b52e\",\"type\":\"Selection\"},{\"attributes\":{\"fill_alpha\":{\"value\":0.4},\"fill_color\":{\"value\":\"purple\"},\"line_alpha\":{\"value\":0.4},\"line_color\":{\"value\":\"purple\"},\"size\":{\"units\":\"screen\",\"value\":7},\"x\":{\"field\":\"x\"},\"y\":{\"field\":\"y\"}},\"id\":\"41789141-8545-43bf-ba3e-23a5fc29f565\",\"type\":\"Circle\"},{\"attributes\":{},\"id\":\"5bf71d8f-f7ba-4869-a081-c1c689934a46\",\"type\":\"ResetTool\"},{\"attributes\":{\"fill_alpha\":{\"value\":0.1},\"fill_color\":{\"value\":\"#1f77b4\"},\"line_alpha\":{\"value\":0.1},\"line_color\":{\"value\":\"#1f77b4\"},\"size\":{\"units\":\"screen\",\"value\":7},\"x\":{\"field\":\"x\"},\"y\":{\"field\":\"y\"}},\"id\":\"377763d5-bb6c-4ec7-a819-8890a06aae09\",\"type\":\"Circle\"},{\"attributes\":{},\"id\":\"8848fdaf-0284-4d8b-8f65-693db1a825b2\",\"type\":\"HelpTool\"},{\"attributes\":{\"data_source\":{\"id\":\"edf0f35a-ac20-4171-bc40-fd10a618274b\",\"type\":\"ColumnDataSource\"},\"glyph\":{\"id\":\"41789141-8545-43bf-ba3e-23a5fc29f565\",\"type\":\"Circle\"},\"hover_glyph\":null,\"muted_glyph\":null,\"nonselection_glyph\":{\"id\":\"377763d5-bb6c-4ec7-a819-8890a06aae09\",\"type\":\"Circle\"},\"selection_glyph\":null,\"view\":{\"id\":\"185a51e3-c13c-4b51-bde4-35e6c1b635fd\",\"type\":\"CDSView\"}},\"id\":\"84233804-1aac-4109-9d99-1a339f6e0276\",\"type\":\"GlyphRenderer\"},{\"attributes\":{\"source\":{\"id\":\"edf0f35a-ac20-4171-bc40-fd10a618274b\",\"type\":\"ColumnDataSource\"}},\"id\":\"185a51e3-c13c-4b51-bde4-35e6c1b635fd\",\"type\":\"CDSView\"},{\"attributes\":{},\"id\":\"5cedfc3c-0c5c-4433-8b36-023a5e6d9962\",\"type\":\"UnionRenderers\"},{\"attributes\":{\"label\":{\"value\":\"7\"},\"renderers\":[{\"id\":\"84233804-1aac-4109-9d99-1a339f6e0276\",\"type\":\"GlyphRenderer\"}]},\"id\":\"90e91389-5172-4893-a773-377298104ab6\",\"type\":\"LegendItem\"},{\"attributes\":{\"callback\":null,\"data\":{\"x\":{\"__ndarray__\":\"Ec26PiDJ3ED24x6/g73HQI7XukA2Yvm+x/bvPy4Nn79bHBFB8FYNvxUlBkE9KKdAlEmTQFH/R0Ap+FhA5nPyQBqFC8BOmQ8/hQUzQAA6vkBG8utA5K/FQATADsGW4P1AjcgFQB+iij17cD8/S5AuQNDI2j8A8YxA9rJMQJACaMA9zdBA9BVLwB/8NMAlA1HAPRs4QAn5gkAGHZ1AYKPEQDEZuD9tRctAZlQSP7rBBUBU0X4/poarP39/j78YB3RAzQ09wKdtl0BpEhJANJwgwCTBBsBHSQFB6b78P9+We0DwsOpACzuQQFfTkL7Lb8w/ShO7vTEj0L5epilACO7Tv5KInECIut1ANgGXQC51DUBqZlNAvjweQHh080Bd1EhAWxhvQCG0n7+KMzRA6L6/vy9IDr+xSYy/H8inP3Z64D+o0qFA/eT4QO7dpUA1Wa4/flu+v4OetEDkpc0/k5fSQFLQ6b/3YllAIBTPv4uY6L33XqZASFnKwBBNu0BgMdJAVFfXQGEP1EABlMU+3n3IP6G0H0A=\",\"dtype\":\"float32\",\"shape\":[101]},\"y\":{\"__ndarray__\":\"UT84wlhoUsJHxETCplVZwqzXTsJ/1knCNTw5whfINcIOU0rC8m1BwnELT8K3yzvCGY5JwhHtMML/HjfCSLNZwuQ/QsL4RlrCvysvwnaPTcIViUfCRgs6wrBR9MGHYj7CWq46wsYxTMKRAEPC6XZEwvdvPcK65DLC/oY/wjgeTsJj0FPCqN5FwoYvVMKSqTvC+3JSwracUMIZF1nC2wNQwmoeTcItPEXCTPRPwkkxS8IQOUjC6fVXwphqVMLxlVXCx4pFwrImVMJdkFPC5j5LwjtJS8K6kVHCw9pZwsDRW8LQ2jPCYBVFwl+OO8KFdDXCpKVQwmv+NcKfC0LCXkBMwhZHNMITaUbCa+NBwkhKR8JDg0rCpWFHwkd0S8ISFzrC0g5Ywo4IUMKwAVvCIz01wth4QcLMOlvCoPQ/wkCNWML8vTXC4MZOwk5gWMK+IFHC6CQ9wr1IRsIT8GHCyNNEwkeMUsLbVEfCbvdNwsgXOcJIPVHCJ4i3wCphVMJL8DXCkxI/whLWS8KqS1jCUEBiwujbOMI=\",\"dtype\":\"float32\",\"shape\":[101]}},\"selected\":{\"id\":\"4dd22dfb-3168-4baf-8801-720c9cc1a009\",\"type\":\"Selection\"},\"selection_policy\":{\"id\":\"d0aa6413-a074-44b9-964b-f96e91033b6f\",\"type\":\"UnionRenderers\"}},\"id\":\"eec07028-10eb-430d-bbc0-bbe0e6f37654\",\"type\":\"ColumnDataSource\"},{\"attributes\":{\"callback\":null,\"data\":{\"x\":{\"__ndarray__\":\"UlePwUtEsMFjP4LB9RmcwTccY8GMSKLB/6aiwfr1rsBpmtPByCq7wYrWnMGjVpbBZZjtQPuRkMEGcULBqV5EwdIZocGxdGnBtRSHwall/0E3qZHAs2rEwVUIs8FBJJ3B4UGxwVTutsFBVN7AHKeHwffcisGl2qDBrQ52wXSjRMHr/rTB0zjGwfTlm8GYsAFBuIlBwa8dg8EZJ2/BvveAwRX6qcEDK4XBWnukwcWtd8FQI5fB3umKwaVQkMGX30fBxfydwWyxrsGeBXTBrKhnwcQGWcHQbIXBj0WXwSm2ycHYKp3B5PmowcYGQcHX+7LBmfpUwSCVD8GWvaPB1RIkwQy4M8HbWa7AWh+kwUSekMGmkYLBrbG3we2dd8F5KbvB9+WOwYe4b8HYDXTBgcarwbrXo8H9YqrBT7bIwT9jjsEneKTBQYKrwTqKoME5rWnBMMmDwZ1Pl8EbgGzB/1yzwSOTm8Gvxp/BmW2uwaqPhcGKXrbBCaZewasmuEFxcx7BwRqrwXwcisE+Pa7BcG1xQXlHPMF9fabBHdppwf82jsE1rEvB\",\"dtype\":\"float32\",\"shape\":[105]},\"y\":{\"__ndarray__\":\"njf3wPfwDcGJq7LA8QSBvyXsjL8R3QLBVWKdQCQC58D75Z1AkjkDwYBicsAhtbzA5xnLwBtzDcE3TM6/QqUEwe7bC8GzZJvAX5prwIstGsFLUKzAX3nxwOfcQcBu/gS/dtOOv7FHEMEsaK3BwMCpv7bJvcAVUOnA/ZYhwJP3SsAZlI3AAkLnwOi5o78pAVZBB/uCwRKpecCSd8TA8svdwNARRMDEjES8mwARwSFf3sCTblLArF4SwAkpl8BDQ1q/mU2+wKpOfcBtSfLAPhLKPS5Sh8CGLOjA1i29P9HKfsAqgtLADb0lwa1RvsA1KcbAp5omwLEXVMBrTBm/v24swEdCib9bitzAB2p/wLRMsj/lzpjAkgQCwU8LncAlxLXAg7WiwPdtxsCraS/ALpoLwYkIAD9e/dm/rNiGwNMcy8B4ppLA8Z0DwOG2RsC6bZTAxgw5wK2g98B2NATBNRnywHuQE8AKpSTBDiaswDqhRD5P4ajA3jHUv7lTD0FDJjXAYonbvui4JcCdZiLBHjYxwQq23L6+bIVA4XoHwVruFMGeOkfA\",\"dtype\":\"float32\",\"shape\":[105]}},\"selected\":{\"id\":\"722b3ccc-4efb-4ae7-a671-e8715b0cef68\",\"type\":\"Selection\"},\"selection_policy\":{\"id\":\"81965f54-0a5e-408e-b439-c4c7cda3183f\",\"type\":\"UnionRenderers\"}},\"id\":\"f4e9b321-483b-40e2-aa72-a95db9022db0\",\"type\":\"ColumnDataSource\"},{\"attributes\":{},\"id\":\"0158c0af-1639-4720-b6e3-a2b548f6cecc\",\"type\":\"Selection\"},{\"attributes\":{\"fill_alpha\":{\"value\":0.4},\"fill_color\":{\"value\":\"coral\"},\"line_alpha\":{\"value\":0.4},\"line_color\":{\"value\":\"coral\"},\"size\":{\"units\":\"screen\",\"value\":7},\"x\":{\"field\":\"x\"},\"y\":{\"field\":\"y\"}},\"id\":\"b997d8d4-a7e5-4872-baf5-0a566ab6f435\",\"type\":\"Circle\"},{\"attributes\":{\"source\":{\"id\":\"eec07028-10eb-430d-bbc0-bbe0e6f37654\",\"type\":\"ColumnDataSource\"}},\"id\":\"86520c8f-6e47-490e-beb7-8b4a9f41e8c6\",\"type\":\"CDSView\"},{\"attributes\":{\"fill_alpha\":{\"value\":0.1},\"fill_color\":{\"value\":\"#1f77b4\"},\"line_alpha\":{\"value\":0.1},\"line_color\":{\"value\":\"#1f77b4\"},\"size\":{\"units\":\"screen\",\"value\":7},\"x\":{\"field\":\"x\"},\"y\":{\"field\":\"y\"}},\"id\":\"4cc95b60-d45d-479c-87ea-2a2be08173b1\",\"type\":\"Circle\"},{\"attributes\":{\"data_source\":{\"id\":\"f4e9b321-483b-40e2-aa72-a95db9022db0\",\"type\":\"ColumnDataSource\"},\"glyph\":{\"id\":\"b997d8d4-a7e5-4872-baf5-0a566ab6f435\",\"type\":\"Circle\"},\"hover_glyph\":null,\"muted_glyph\":null,\"nonselection_glyph\":{\"id\":\"4cc95b60-d45d-479c-87ea-2a2be08173b1\",\"type\":\"Circle\"},\"selection_glyph\":null,\"view\":{\"id\":\"71a2a6ad-90e1-4e75-98c1-13b2d9f0cb19\",\"type\":\"CDSView\"}},\"id\":\"0cf3b32b-fa23-4813-b097-7d648a48b4f7\",\"type\":\"GlyphRenderer\"},{\"attributes\":{\"source\":{\"id\":\"f4e9b321-483b-40e2-aa72-a95db9022db0\",\"type\":\"ColumnDataSource\"}},\"id\":\"71a2a6ad-90e1-4e75-98c1-13b2d9f0cb19\",\"type\":\"CDSView\"},{\"attributes\":{},\"id\":\"77b4870e-8392-4563-a6a2-d690ade56056\",\"type\":\"UnionRenderers\"},{\"attributes\":{\"label\":{\"value\":\"8\"},\"renderers\":[{\"id\":\"0cf3b32b-fa23-4813-b097-7d648a48b4f7\",\"type\":\"GlyphRenderer\"}]},\"id\":\"151137dd-956e-4b4f-ab02-1d15b792b3f4\",\"type\":\"LegendItem\"},{\"attributes\":{\"callback\":null,\"data\":{\"x\":{\"__ndarray__\":\"uloXwiGeBsIOmQfC/oQZwlkuH8Ifnw3CSGcEwumjycGqtxTCej0OwpQQD8LkKAfCTT0DwpcxE8LtDBDCmKYLwhAOCcKGvgHC8akMwiR9E8LowxLC8e4ewlZgC8LfbxfCusYOwkySB8ImChLCQhQHwlaxHcL6EflBHFsLwsxpIcIfshnC1wcTwq2QkcHudA/CTl8BwoMwE8Ia0AHCAUEKwndrE8JZ0w/CAXEXwhAfuME6tAXCMooKwmkeH8J0fwrC0tYCwv9YFMLhYfvBUWMCwoRkFMLkRBjCeM8WwssFD8LF0wTC4mQOwsGQE8JSUg3CILwIwqoxEcKuaf3BSqgcwp1IEsJEpwXCK78VwjdoG8L9MBrCIMD5wWLNEcLQDyPCHUoTwp9BCMIJoBHCTzcMwouyEcI/bQfCgrUNwrMrEMJdLxPCpwkawkTMCsKZyhvC6NoLwlMzCsLU9xjCSbAMwq/BxsHlLQvCR+UXwrrXF8KclhfCwxQVwnp098FnvQjC0/sGwhcSEsI14ADCkQ8SwqFdGcK9hg3CCZcLwvzPFMJl0RTCGQwVwl19EMJAsQ7CEysPwg==\",\"dtype\":\"float32\",\"shape\":[109]},\"y\":{\"__ndarray__\":\"AByUQEaDz0AK6JhB0qglQbZ/FkF91y9BGMQlQf9snkAVbo5B35CMQdepqECtNA1BER0fQUuBakH6u+pAOPkIQcFztkCS/sVAf82iQQL2lUHBYF1BZ66CQRIyiUF+tXZBe2tfQc7Cd0Hb0dRAiGZ8QM73l0Evsl1BWAihQI1LiUHqYNVAkFeKQUZRDUBcBllBvGn/QONZpEE4kRZB/MSWQSiLuEDibT9BqHKCQZUArkBf/5BBCQOEQRpqkkFN0+JAnFi/QHDNcEE1HgpBDo6aQM4w70BtWYpB2lkmQZ5/lUF2iZxAkIF6QXhFfUGbah1BvFIYQST3AUHDfhVBKRhJQdJCtkDqdUVB3MigQUyhEEGqhL9ATzPkQNLlDEFWUIBBhqDUQMYEk0Hl3ztB8CaVQUiQmUHYXipB8uE6Qfn0mEGSqydBfI0DQfWl7UC7IIJBRZFvQZq1iEELba5A8t65QN8Sn0C1iaJB8ZKKQRELZ0GLF6FBlnumQTvkDkGwKx9B4oGBQZPmhkBPSwlBjc2DQehT+0A8DYdA5uImQRuXmUE/XMtA0u4YQVFwS0FtFthANUAKQQ==\",\"dtype\":\"float32\",\"shape\":[109]}},\"selected\":{\"id\":\"4bb00ddc-ab17-495e-8fa6-06f9d5470759\",\"type\":\"Selection\"},\"selection_policy\":{\"id\":\"1862a1be-2f55-4f1c-928e-feab6103b11c\",\"type\":\"UnionRenderers\"}},\"id\":\"36517b54-eaf4-4d95-a8c5-1f2d2b2ded1e\",\"type\":\"ColumnDataSource\"},{\"attributes\":{\"callback\":null,\"data\":{\"x\":{\"__ndarray__\":\"k83oQX8hxkHFDqq/V6/mQRtFCkLEHwtCtaK0QaDdAkIYxQdCT0C9QQYmCULnoPxBHI4CQqSLA0Jwkw9CBdEVQny+C0KNNWPA7skLQs74/UGTvvtBE2IMQnX58cCt7u5BDMKswdn99kFhLPJB2br3QXlZBUJxNv5BbVrZQQ6OAUKASPpB6NLmQRrxF0KIdQZCOw0WQvrc5UF/2+JByaf9QYdNBkJQxMjAn0WoQYZHBEILM9xB0zT+QfKzF0LNxfBByEMHQnfeEEKHNfBBqt/oQd95EkL2Uf1B5cntQQ9/CUJ/k/1B1VvYQUN7+kEBZAlCL64QQp6WFkJgD/RBlg4AQpH4BkIj3BJCzFilQfTM6kG90w1C7dgKQvYJE0J0FgJCQB0HQmHcDkJa9g5C2t4JQr+/CkKJHRFC34wQQmP9FUKYLRRChd4PQgSoDEKEWBdC3o0KQnyjFEJnVQtCYSMDQtcGC0LLYQZCc0XLQQpHFEKoG/FBQ+z8QbTx50He+RBC7Xn3QZjCrEGZSAZCwHjmQZwE5kGU9hJCpu/sQez3+0E6pAJCP/gbQg==\",\"dtype\":\"float32\",\"shape\":[106]},\"y\":{\"__ndarray__\":\"UezYvsDSmkFX5SVCbMymQNQZLEFF4d9A+Tn7wKMiHkGetvxAVsK8QXxc80AQ35BAhec1QcGJdECXI+pAbMt8QGFoIT8ULDvCyGGQQCbcHUHThTFB9sHHQNxnpsFWLM9AvP7qwanW60BPKAxBjdcnQB6zU0FvvmxBR/ncv7NkyEDcpqI/oq8RQCVpoUB4xTdBjcj7P4AV/0C0q65AClzTP9laHkFBCbjBmUWLwWdHLkEYenI/1YkEQfV9z0D+tJ1AbIW3QHBeQEBkJENBUs1BQFDfm0BW1sY/hVm8P0WXDEGrFadALlG5PlaoJUD/lEBBe259QCNjM0HknRpBhSkJQdMlKkGuBwdBtX3lwIaH7kBqIS1BfRsVQfrChEDOH+ZAYWjAQDJ5DkCQi7VAkXCQv1V3TEFdFUpBRc8OQVbxBUF7/ixBalwzQRKtBkEJxwpALUhpvulBOkAmrQ5BpvOGQAy6F75pECpBHxeEwBrbR0GkcQVBFEjPQCzqFkF5LSxBmZjdQBykm0HtWEpBgvstQHhjyUDqoDpANmjQQMYnSkGT3UBBXB94QA==\",\"dtype\":\"float32\",\"shape\":[106]}},\"selected\":{\"id\":\"958e0d63-5ff9-4037-b078-ed1e0597e7d9\",\"type\":\"Selection\"},\"selection_policy\":{\"id\":\"55f88d67-18a4-4e5c-941d-9f0aacef84a0\",\"type\":\"UnionRenderers\"}},\"id\":\"cb8b0c1d-70df-4331-85bc-2b3e6b84fd57\",\"type\":\"ColumnDataSource\"},{\"attributes\":{},\"id\":\"4dd22dfb-3168-4baf-8801-720c9cc1a009\",\"type\":\"Selection\"},{\"attributes\":{},\"id\":\"722b3ccc-4efb-4ae7-a671-e8715b0cef68\",\"type\":\"Selection\"},{\"attributes\":{\"fill_alpha\":{\"value\":0.4},\"fill_color\":{\"value\":\"green\"},\"line_alpha\":{\"value\":0.4},\"line_color\":{\"value\":\"green\"},\"size\":{\"units\":\"screen\",\"value\":7},\"x\":{\"field\":\"x\"},\"y\":{\"field\":\"y\"}},\"id\":\"4aa33d67-d05c-4140-81e4-1adc39e50f8a\",\"type\":\"Circle\"},{\"attributes\":{\"fill_alpha\":{\"value\":0.4},\"fill_color\":{\"value\":\"lime\"},\"line_alpha\":{\"value\":0.4},\"line_color\":{\"value\":\"lime\"},\"size\":{\"units\":\"screen\",\"value\":7},\"x\":{\"field\":\"x\"},\"y\":{\"field\":\"y\"}},\"id\":\"12657480-536b-4a54-9830-d6f9e8b55838\",\"type\":\"Circle\"},{\"attributes\":{\"fill_alpha\":{\"value\":0.1},\"fill_color\":{\"value\":\"#1f77b4\"},\"line_alpha\":{\"value\":0.1},\"line_color\":{\"value\":\"#1f77b4\"},\"size\":{\"units\":\"screen\",\"value\":7},\"x\":{\"field\":\"x\"},\"y\":{\"field\":\"y\"}},\"id\":\"16405eed-3690-41de-bf40-8c0120b3d096\",\"type\":\"Circle\"},{\"attributes\":{\"fill_alpha\":{\"value\":0.1},\"fill_color\":{\"value\":\"#1f77b4\"},\"line_alpha\":{\"value\":0.1},\"line_color\":{\"value\":\"#1f77b4\"},\"size\":{\"units\":\"screen\",\"value\":7},\"x\":{\"field\":\"x\"},\"y\":{\"field\":\"y\"}},\"id\":\"99f9e6c5-3070-429b-a560-f3922684f916\",\"type\":\"Circle\"},{\"attributes\":{\"data_source\":{\"id\":\"36517b54-eaf4-4d95-a8c5-1f2d2b2ded1e\",\"type\":\"ColumnDataSource\"},\"glyph\":{\"id\":\"4aa33d67-d05c-4140-81e4-1adc39e50f8a\",\"type\":\"Circle\"},\"hover_glyph\":null,\"muted_glyph\":null,\"nonselection_glyph\":{\"id\":\"16405eed-3690-41de-bf40-8c0120b3d096\",\"type\":\"Circle\"},\"selection_glyph\":null,\"view\":{\"id\":\"57416506-9929-41ba-be17-dd510f458ccb\",\"type\":\"CDSView\"}},\"id\":\"6ea18460-cc69-408d-82f0-2389e4380611\",\"type\":\"GlyphRenderer\"},{\"attributes\":{\"data_source\":{\"id\":\"cb8b0c1d-70df-4331-85bc-2b3e6b84fd57\",\"type\":\"ColumnDataSource\"},\"glyph\":{\"id\":\"12657480-536b-4a54-9830-d6f9e8b55838\",\"type\":\"Circle\"},\"hover_glyph\":null,\"muted_glyph\":null,\"nonselection_glyph\":{\"id\":\"99f9e6c5-3070-429b-a560-f3922684f916\",\"type\":\"Circle\"},\"selection_glyph\":null,\"view\":{\"id\":\"15652e60-8733-48ec-b7e8-c2bff29104dd\",\"type\":\"CDSView\"}},\"id\":\"c3fd7813-0692-4689-8f24-f6bcf2b1b81c\",\"type\":\"GlyphRenderer\"},{\"attributes\":{\"source\":{\"id\":\"36517b54-eaf4-4d95-a8c5-1f2d2b2ded1e\",\"type\":\"ColumnDataSource\"}},\"id\":\"57416506-9929-41ba-be17-dd510f458ccb\",\"type\":\"CDSView\"},{\"attributes\":{\"source\":{\"id\":\"cb8b0c1d-70df-4331-85bc-2b3e6b84fd57\",\"type\":\"ColumnDataSource\"}},\"id\":\"15652e60-8733-48ec-b7e8-c2bff29104dd\",\"type\":\"CDSView\"},{\"attributes\":{},\"id\":\"d0aa6413-a074-44b9-964b-f96e91033b6f\",\"type\":\"UnionRenderers\"},{\"attributes\":{},\"id\":\"81965f54-0a5e-408e-b439-c4c7cda3183f\",\"type\":\"UnionRenderers\"},{\"attributes\":{\"label\":{\"value\":\"1\"},\"renderers\":[{\"id\":\"6ea18460-cc69-408d-82f0-2389e4380611\",\"type\":\"GlyphRenderer\"}]},\"id\":\"299ae20d-a88f-4905-a1c3-8b41aae72227\",\"type\":\"LegendItem\"},{\"attributes\":{\"label\":{\"value\":\"9\"},\"renderers\":[{\"id\":\"c3fd7813-0692-4689-8f24-f6bcf2b1b81c\",\"type\":\"GlyphRenderer\"}]},\"id\":\"daa6e178-1ada-4e49-962f-39a3d6777ee3\",\"type\":\"LegendItem\"},{\"attributes\":{\"callback\":null,\"data\":{\"x\":{\"__ndarray__\":\"dl+Dv1jyosD6IZZAvsssP1fLB8HX5nvA1J33Px9A20CaxFdATxyPwDg73T+pllrAurHuQO8p9kAD8pQ/GE7OwIkZHcCobLFANKxTP35V8r4KvcZAP0VtwPmelEBX26k/g2vEwPhlsD8bi6lAowsIPwi3kEAbDrI+OuVaQF/mhcEXIr5ApMI0QKe7kMAv+hTAKQvHPbEbxEA6uOhAwtNivnDcPUDvzWdAP2DOP7Tkk8Eoz59AfdmEwIBIu75Gar5AMiwQQU+e50BJquG/lSqUQVjgsr8Qm+dAVmSIQM6DnMDtiOo/CpOlwJFyJD8B2Y6/HkaKwMKf0kBz8KLALaprP52Mk0AneCbA/J8GQaCSTUC8R2tANKXtPozsokDlwp/AiAl7P+a17r4FSD4/XqfGP0+ni0C0ns7AuT7cvXK1y8AsBXLAC2WswGyk18B/x88/xmFrQKoC1EEzMt5AR+G3Qb9EYECludzAnqAEwGTCyb9rjAhB02imwLWme0Cc/IxBQqSpwF02W0CWcr3AGL3iwMaXskBUVqHA8rTMP3D9ET8=\",\"dtype\":\"float32\",\"shape\":[104]},\"y\":{\"__ndarray__\":\"/3NcQSTmEUGYCFpBAyWMQX/2QkGUUYBBM3JPQUamh0EN01tB+BJaQeeOaUEowmBBjlLLwDHTnEGAlWtBGMI8QZR6PkFuUmpBKB4wQRt1gEHkPHZBkXhvQd37lkESyoZBfBg9QdysRkF0eaJB2q+FQaWoa0EBXZdB1qyeQbgHp8HWxoxBvKhjQa6iaEHjRYpBYwmFQdYtmUFUmoZBFyyQQbpdhkEvJgtBVPGYQVOagL8ym4NBjqthQfEdV0FbP5ZBKt1cwtMeoEH2SDVBQNIFwWUYdUE1bm1BjbCEQV/yN0GuoopBRxCQQYjNfEEBWylB1VtTQV+VcEGLlxVBW12RQfzvXkHHsW5BNqmEQYpTlEFF0ppBsNEvwuLIRUH6gWBB1yM0wlpAc0EWE2tB7vpKQenCiEEBaYRB30RUQUIAgUHh7YBBFzeIQbxieEEuCYFBjQ0KQUTmrEFRbqVBjamWQba4i0GVwFxBH/eAQRk2M0GJg4JBrhVrQV9eVEHRr9HAiv17Qe7bd0FfNGdBmvVcQfjmpkGLZDBBeL4+QQRqPkE=\",\"dtype\":\"float32\",\"shape\":[104]}},\"selected\":{\"id\":\"271fcecb-14d8-455a-8e96-c1c09ab2ace8\",\"type\":\"Selection\"},\"selection_policy\":{\"id\":\"7091156d-9b42-44f4-ba66-d0c56417b7d2\",\"type\":\"UnionRenderers\"}},\"id\":\"bc54898a-0ead-47ba-a220-d979c19993b8\",\"type\":\"ColumnDataSource\"},{\"attributes\":{},\"id\":\"55f88d67-18a4-4e5c-941d-9f0aacef84a0\",\"type\":\"UnionRenderers\"},{\"attributes\":{},\"id\":\"4bb00ddc-ab17-495e-8fa6-06f9d5470759\",\"type\":\"Selection\"},{\"attributes\":{},\"id\":\"958e0d63-5ff9-4037-b078-ed1e0597e7d9\",\"type\":\"Selection\"},{\"attributes\":{\"fill_alpha\":{\"value\":0.4},\"fill_color\":{\"value\":\"red\"},\"line_alpha\":{\"value\":0.4},\"line_color\":{\"value\":\"red\"},\"size\":{\"units\":\"screen\",\"value\":7},\"x\":{\"field\":\"x\"},\"y\":{\"field\":\"y\"}},\"id\":\"fe23cc20-6a14-4a1a-b42f-c90416a41b66\",\"type\":\"Circle\"},{\"attributes\":{\"fill_alpha\":{\"value\":0.1},\"fill_color\":{\"value\":\"#1f77b4\"},\"line_alpha\":{\"value\":0.1},\"line_color\":{\"value\":\"#1f77b4\"},\"size\":{\"units\":\"screen\",\"value\":7},\"x\":{\"field\":\"x\"},\"y\":{\"field\":\"y\"}},\"id\":\"54acb4fb-8047-4249-bb63-24d7066f594f\",\"type\":\"Circle\"},{\"attributes\":{\"data_source\":{\"id\":\"bc54898a-0ead-47ba-a220-d979c19993b8\",\"type\":\"ColumnDataSource\"},\"glyph\":{\"id\":\"fe23cc20-6a14-4a1a-b42f-c90416a41b66\",\"type\":\"Circle\"},\"hover_glyph\":null,\"muted_glyph\":null,\"nonselection_glyph\":{\"id\":\"54acb4fb-8047-4249-bb63-24d7066f594f\",\"type\":\"Circle\"},\"selection_glyph\":null,\"view\":{\"id\":\"c1b642e2-350d-4cba-9d28-e7b4d31094dd\",\"type\":\"CDSView\"}},\"id\":\"2555e41a-a40f-4a59-91da-3d2ad0687dc3\",\"type\":\"GlyphRenderer\"},{\"attributes\":{},\"id\":\"310c8f11-6e01-4930-9036-5e46e4dfa7d3\",\"type\":\"BasicTickFormatter\"},{\"attributes\":{\"source\":{\"id\":\"bc54898a-0ead-47ba-a220-d979c19993b8\",\"type\":\"ColumnDataSource\"}},\"id\":\"c1b642e2-350d-4cba-9d28-e7b4d31094dd\",\"type\":\"CDSView\"},{\"attributes\":{},\"id\":\"1862a1be-2f55-4f1c-928e-feab6103b11c\",\"type\":\"UnionRenderers\"},{\"attributes\":{\"items\":[{\"id\":\"b1199ab0-cb2e-439b-8025-1582f4e86f5b\",\"type\":\"LegendItem\"},{\"id\":\"299ae20d-a88f-4905-a1c3-8b41aae72227\",\"type\":\"LegendItem\"},{\"id\":\"6fe124cd-a3ee-4871-958d-a83b598c7e82\",\"type\":\"LegendItem\"},{\"id\":\"acd5b51f-c305-4e83-8147-c82022930f43\",\"type\":\"LegendItem\"},{\"id\":\"bfb07f11-4b6a-4f17-80ed-06749da571c1\",\"type\":\"LegendItem\"},{\"id\":\"dd17beed-7dd2-4dac-876c-bb49e2a78a94\",\"type\":\"LegendItem\"},{\"id\":\"0439525c-ec8b-4292-bef1-b3b5b024e25b\",\"type\":\"LegendItem\"},{\"id\":\"90e91389-5172-4893-a773-377298104ab6\",\"type\":\"LegendItem\"},{\"id\":\"151137dd-956e-4b4f-ab02-1d15b792b3f4\",\"type\":\"LegendItem\"},{\"id\":\"daa6e178-1ada-4e49-962f-39a3d6777ee3\",\"type\":\"LegendItem\"}],\"location\":\"bottom_right\",\"plot\":{\"id\":\"118ea093-db69-4f6c-8219-7d6d02bcb710\",\"subtype\":\"Figure\",\"type\":\"Plot\"}},\"id\":\"0d386958-73b6-4fcb-b025-65a7d82fabbf\",\"type\":\"Legend\"},{\"attributes\":{\"label\":{\"value\":\"2\"},\"renderers\":[{\"id\":\"2555e41a-a40f-4a59-91da-3d2ad0687dc3\",\"type\":\"GlyphRenderer\"}]},\"id\":\"6fe124cd-a3ee-4871-958d-a83b598c7e82\",\"type\":\"LegendItem\"},{\"attributes\":{\"callback\":null,\"data\":{\"x\":{\"__ndarray__\":\"IOlLwcmrlsFHqozBJo2cwcXOpME+qJRByIZ+wZJsV8HA/QDBUGguwUq0VcHobFHBFhKFwWaMsMG/LqrBtnadwc39lMGhnCfBdoBVwQngjcHNSE3B3ImVwQGZTMEC+zPBgnBRwU20Z8EvnZTBU7fPQRDMT8HFXAzB5GI+wfFqn8GI/4XBeLKowKRfacFoKqrBzjKNwanSGsErjojB2WgowQjqM8EGKGvB+Ct0wVyCucBi2TjBmA4fwRqPksGCjI/BXHsWwfGwYsHzmHXB/K+LwaPJg8GbFzbBlb13wYgUlMG54GDBngLNwRWoVcGUbJ3B0nAKwX3XhMGszizBdbc/wWOpS8E59oXBAnWQwdQ7AsDN0hbBSjGewVEVXsHKs6LBZU1pwQ14o8FbqNrBYbZeQZWXe8H6X1xBS3CSwaL7k8GJFITBhzmdwXezkMFMpKnB24v0wbLGocEi7oPBPLJXwYvNBMHtXlvBg/5CwdZhgMHpxo/B7cOYwWXUksHenXrB3zhnwbzaZsHK1ULBE+Ojwck8XMFmUJfBfWJSwQ==\",\"dtype\":\"float32\",\"shape\":[103]},\"y\":{\"__ndarray__\":\"3yS+wQQWyMGl1PDBCdS/wdid6cBpegXBrYS7waVY1sEk4N3BULnvwUNm7sGWjcDBNvbKwa8508EmttHB+o7XwZZjv8EdbfPBTLb8wXjUsMHLJ7PBmcTawbue6sFoS+bBynfUwVtbtsEceOTB0Kx+wfuT38F7wTRBotnHwTt468GBje7ByK8mQfsp3cFCKczBk3P3wZmawcFRPxfBhN65weZVycHe+NHBPo75wVDCwcELdwBCfn3QwdZu1cE3ObnBSo3FwdWJ7MEdouHB2UzHwZ9e6cFrc7LBVefdwV+WucF3/cHBlK6DwHdfuMGUP8jBaVnbwZMhzsHjouHB7lC7wZSUyMFdDbjBhDfGwSgsE0GznL7BMcHlwfklr8HH/t7BKP6ywcG9uMFdBHZAgn7OwPtls8Ef9cfAqsnOwZnF68GAV8HBlznRwXzE4cGe+dzBmIWQQcEHwcFmHd3BRnDIwaLzyMH2tezBHTGDwdGyysFmDOjB9QThwSen6MG/O6zBjbHfwZzz68ECD8LBciGsweNov8G1ePbBUXClwQ==\",\"dtype\":\"float32\",\"shape\":[103]}},\"selected\":{\"id\":\"19b47182-dfbf-4dd5-9658-9d5809d3e3ab\",\"type\":\"Selection\"},\"selection_policy\":{\"id\":\"33bac1a0-ed97-4725-bccf-7696e87981ce\",\"type\":\"UnionRenderers\"}},\"id\":\"f57641d7-24ca-4c64-945a-73d1425e183e\",\"type\":\"ColumnDataSource\"},{\"attributes\":{},\"id\":\"271fcecb-14d8-455a-8e96-c1c09ab2ace8\",\"type\":\"Selection\"},{\"attributes\":{\"fill_alpha\":{\"value\":0.4},\"fill_color\":{\"value\":\"cyan\"},\"line_alpha\":{\"value\":0.4},\"line_color\":{\"value\":\"cyan\"},\"size\":{\"units\":\"screen\",\"value\":7},\"x\":{\"field\":\"x\"},\"y\":{\"field\":\"y\"}},\"id\":\"ee578904-fc7f-41d7-a043-155f48107d3e\",\"type\":\"Circle\"},{\"attributes\":{\"fill_alpha\":{\"value\":0.1},\"fill_color\":{\"value\":\"#1f77b4\"},\"line_alpha\":{\"value\":0.1},\"line_color\":{\"value\":\"#1f77b4\"},\"size\":{\"units\":\"screen\",\"value\":7},\"x\":{\"field\":\"x\"},\"y\":{\"field\":\"y\"}},\"id\":\"d87e2668-9a08-41bc-af4f-bdce34d90a65\",\"type\":\"Circle\"},{\"attributes\":{\"data_source\":{\"id\":\"f57641d7-24ca-4c64-945a-73d1425e183e\",\"type\":\"ColumnDataSource\"},\"glyph\":{\"id\":\"ee578904-fc7f-41d7-a043-155f48107d3e\",\"type\":\"Circle\"},\"hover_glyph\":null,\"muted_glyph\":null,\"nonselection_glyph\":{\"id\":\"d87e2668-9a08-41bc-af4f-bdce34d90a65\",\"type\":\"Circle\"},\"selection_glyph\":null,\"view\":{\"id\":\"e9577ff8-0174-475c-bdf7-17785da26d8a\",\"type\":\"CDSView\"}},\"id\":\"20629c06-1790-48fd-ac7f-ed69dd29cb20\",\"type\":\"GlyphRenderer\"},{\"attributes\":{\"source\":{\"id\":\"f57641d7-24ca-4c64-945a-73d1425e183e\",\"type\":\"ColumnDataSource\"}},\"id\":\"e9577ff8-0174-475c-bdf7-17785da26d8a\",\"type\":\"CDSView\"},{\"attributes\":{},\"id\":\"7091156d-9b42-44f4-ba66-d0c56417b7d2\",\"type\":\"UnionRenderers\"},{\"attributes\":{\"label\":{\"value\":\"3\"},\"renderers\":[{\"id\":\"20629c06-1790-48fd-ac7f-ed69dd29cb20\",\"type\":\"GlyphRenderer\"}]},\"id\":\"acd5b51f-c305-4e83-8147-c82022930f43\",\"type\":\"LegendItem\"},{\"attributes\":{\"fill_alpha\":{\"value\":0.4},\"fill_color\":{\"value\":\"blue\"},\"line_alpha\":{\"value\":0.4},\"line_color\":{\"value\":\"blue\"},\"size\":{\"units\":\"screen\",\"value\":7},\"x\":{\"field\":\"x\"},\"y\":{\"field\":\"y\"}},\"id\":\"5e931563-5d20-4a23-bf97-acae1aae0eb3\",\"type\":\"Circle\"},{\"attributes\":{\"callback\":null,\"data\":{\"x\":{\"__ndarray__\":\"fEDzQUx8FEIwfuNB5/zcQTxxAUKuPP1BgFW3QVOsq0EFMAhCRrLlQb4hBUJ6m/VBSWG4QT/Qw0EBrM1Bn+SzQbAawkGwaLpBdorQQeBSzEFkk+tBsHTXQdly2kG0jfdB9ODYQRpD4EFw+AdCawHLQUlw20G4eeNBvTXnQajY0UFauOVBBy7fQUkY1kHS5upBikDyQUQer0EaMMS/wl2+Qa35r0GDq8NB9nbdQbTvwEFiKOVBtVDZQadT6UEs8PpB4riwQQ211EFWY8pB8fXYQZR190GKL95Bf8zCQR2uskFP399BJTrKQZhWp0FRxOlBpvboQXgQyEFr8+tBHDPOQeY8vEHpBwNCI134QVa3yUE8TfJBSsCoQXKU7EG7mONBQ+niQUga70Gz6rJBlwS4QYHr70H/cO1BMtf9QRvAxkE8+85BVB/5QZ350kFPWapBXa7/QfzA70FU59pBamkAQkoB10F2yAFCsCbqQQ==\",\"dtype\":\"float32\",\"shape\":[91]},\"y\":{\"__ndarray__\":\"VsPfQXpdJUGwpKBBe8yoQZ8TuUG7ebdBIMLFQejn2kFDiVtBs4DbQTzPzUEq87JB9cO5QW3c10GGS+pB4CSRQQfTpkH6l5BBe9jMQfKG2kF4wclBH8zeQUNHkUH/pb9BFdyCQYFbl0HBDnNBApS8QaXIyEEcFNNBszXdQVIr5kHH2KlBghHSQRnZuEH9TZ5BswTLQbeZ20Ec1w1CRn+vQXIfnkGufJ9BH/OUQYDRnkH+db1B20LcQTeapEFm6M1Bgr2uQengyEHuTLFBZS++QXjlQEHI/OdB6iXLQaMXkUFVlMdBTK/EQYhgrUH+BbNBRMHnQaTGqkEDJtdBs3ncQbcXxUGUBq5BSzqlQf7XtUFUiLNBgwiQQYAm20HbjOVBUhy4QcH/qUEkTNpBEw6wQWtdt0HCV7xBis/JQdVf30HntMhBntdcQQ00j0EGF65Bn3axQRC9yUH7/55BcLW7QVv8lEEoHIFB/WrCQQ==\",\"dtype\":\"float32\",\"shape\":[91]}},\"selected\":{\"id\":\"c256a4ee-c253-4dc5-bdea-9b6167c718e6\",\"type\":\"Selection\"},\"selection_policy\":{\"id\":\"8f657967-7c88-4c1b-8e84-3ad0bca5662e\",\"type\":\"UnionRenderers\"}},\"id\":\"e68a8e03-b547-4536-b53b-edbdb3134124\",\"type\":\"ColumnDataSource\"},{\"attributes\":{},\"id\":\"19b47182-dfbf-4dd5-9658-9d5809d3e3ab\",\"type\":\"Selection\"},{\"attributes\":{\"label\":{\"value\":\"0\"},\"renderers\":[{\"id\":\"767f97a3-67bf-4e47-85c9-400eb7d11ee3\",\"type\":\"GlyphRenderer\"}]},\"id\":\"b1199ab0-cb2e-439b-8025-1582f4e86f5b\",\"type\":\"LegendItem\"},{\"attributes\":{\"fill_alpha\":{\"value\":0.4},\"fill_color\":{\"value\":\"magenta\"},\"line_alpha\":{\"value\":0.4},\"line_color\":{\"value\":\"magenta\"},\"size\":{\"units\":\"screen\",\"value\":7},\"x\":{\"field\":\"x\"},\"y\":{\"field\":\"y\"}},\"id\":\"380feed1-6bc6-4a56-84c9-678e16000f28\",\"type\":\"Circle\"},{\"attributes\":{\"fill_alpha\":{\"value\":0.1},\"fill_color\":{\"value\":\"#1f77b4\"},\"line_alpha\":{\"value\":0.1},\"line_color\":{\"value\":\"#1f77b4\"},\"size\":{\"units\":\"screen\",\"value\":7},\"x\":{\"field\":\"x\"},\"y\":{\"field\":\"y\"}},\"id\":\"21eecf67-8a59-49b1-b8fe-ea253c551e19\",\"type\":\"Circle\"},{\"attributes\":{\"below\":[{\"id\":\"d6dbcb42-66c5-4cc8-9f44-ee13f38d55b8\",\"type\":\"LinearAxis\"}],\"left\":[{\"id\":\"2af56ee2-88bc-4b85-a017-5dc824772d1e\",\"type\":\"LinearAxis\"}],\"renderers\":[{\"id\":\"d6dbcb42-66c5-4cc8-9f44-ee13f38d55b8\",\"type\":\"LinearAxis\"},{\"id\":\"e128acd7-ece8-4444-b09f-5571685fafd3\",\"type\":\"Grid\"},{\"id\":\"2af56ee2-88bc-4b85-a017-5dc824772d1e\",\"type\":\"LinearAxis\"},{\"id\":\"dbcb77ba-7d28-4d34-9ae3-7f1659a37f04\",\"type\":\"Grid\"},{\"id\":\"4537f771-310c-4804-80aa-970a0160588c\",\"type\":\"BoxAnnotation\"},{\"id\":\"0d386958-73b6-4fcb-b025-65a7d82fabbf\",\"type\":\"Legend\"},{\"id\":\"767f97a3-67bf-4e47-85c9-400eb7d11ee3\",\"type\":\"GlyphRenderer\"},{\"id\":\"6ea18460-cc69-408d-82f0-2389e4380611\",\"type\":\"GlyphRenderer\"},{\"id\":\"2555e41a-a40f-4a59-91da-3d2ad0687dc3\",\"type\":\"GlyphRenderer\"},{\"id\":\"20629c06-1790-48fd-ac7f-ed69dd29cb20\",\"type\":\"GlyphRenderer\"},{\"id\":\"3d7a55a9-189f-495e-b7c2-986afcbfaf6e\",\"type\":\"GlyphRenderer\"},{\"id\":\"9f9961f5-a959-4a03-854d-d2f4cd7471c0\",\"type\":\"GlyphRenderer\"},{\"id\":\"30f4a790-9c62-4d25-8c12-2c919acd40eb\",\"type\":\"GlyphRenderer\"},{\"id\":\"84233804-1aac-4109-9d99-1a339f6e0276\",\"type\":\"GlyphRenderer\"},{\"id\":\"0cf3b32b-fa23-4813-b097-7d648a48b4f7\",\"type\":\"GlyphRenderer\"},{\"id\":\"c3fd7813-0692-4689-8f24-f6bcf2b1b81c\",\"type\":\"GlyphRenderer\"}],\"title\":{\"id\":\"d3906022-4cc4-40cd-8cc1-bc67b501909c\",\"type\":\"Title\"},\"toolbar\":{\"id\":\"22bd5e7d-40cd-40fa-b0d2-710271aebaf5\",\"type\":\"Toolbar\"},\"x_range\":{\"id\":\"84bea065-4f06-47cd-b376-a39e6bb0d412\",\"type\":\"DataRange1d\"},\"x_scale\":{\"id\":\"eac38ec2-c2af-4109-9816-f35b3ba67294\",\"type\":\"LinearScale\"},\"y_range\":{\"id\":\"6180ab1a-9721-42b5-8d6a-05253fe319ad\",\"type\":\"DataRange1d\"},\"y_scale\":{\"id\":\"20315f75-ce98-4b7f-8842-6988e874f192\",\"type\":\"LinearScale\"}},\"id\":\"118ea093-db69-4f6c-8219-7d6d02bcb710\",\"subtype\":\"Figure\",\"type\":\"Plot\"},{\"attributes\":{\"data_source\":{\"id\":\"e68a8e03-b547-4536-b53b-edbdb3134124\",\"type\":\"ColumnDataSource\"},\"glyph\":{\"id\":\"380feed1-6bc6-4a56-84c9-678e16000f28\",\"type\":\"Circle\"},\"hover_glyph\":null,\"muted_glyph\":null,\"nonselection_glyph\":{\"id\":\"21eecf67-8a59-49b1-b8fe-ea253c551e19\",\"type\":\"Circle\"},\"selection_glyph\":null,\"view\":{\"id\":\"33ee8c5c-aecb-4c51-ac82-97bb550ac19d\",\"type\":\"CDSView\"}},\"id\":\"3d7a55a9-189f-495e-b7c2-986afcbfaf6e\",\"type\":\"GlyphRenderer\"},{\"attributes\":{\"source\":{\"id\":\"e68a8e03-b547-4536-b53b-edbdb3134124\",\"type\":\"ColumnDataSource\"}},\"id\":\"33ee8c5c-aecb-4c51-ac82-97bb550ac19d\",\"type\":\"CDSView\"},{\"attributes\":{},\"id\":\"33bac1a0-ed97-4725-bccf-7696e87981ce\",\"type\":\"UnionRenderers\"},{\"attributes\":{\"active_drag\":\"auto\",\"active_inspect\":\"auto\",\"active_multi\":null,\"active_scroll\":\"auto\",\"active_tap\":\"auto\",\"tools\":[{\"id\":\"689c5327-12d8-4c63-b38a-7d7b7a31ada6\",\"type\":\"PanTool\"},{\"id\":\"bcdec603-b729-407c-9464-5160b1025655\",\"type\":\"WheelZoomTool\"},{\"id\":\"cb2103f9-37a2-477e-9bd2-08c1d95c41b4\",\"type\":\"BoxZoomTool\"},{\"id\":\"9fb16dd5-988a-46b7-acaf-f8df0b5b5d5d\",\"type\":\"SaveTool\"},{\"id\":\"5bf71d8f-f7ba-4869-a081-c1c689934a46\",\"type\":\"ResetTool\"},{\"id\":\"8848fdaf-0284-4d8b-8f65-693db1a825b2\",\"type\":\"HelpTool\"}]},\"id\":\"22bd5e7d-40cd-40fa-b0d2-710271aebaf5\",\"type\":\"Toolbar\"},{\"attributes\":{\"callback\":null,\"data\":{\"x\":{\"__ndarray__\":\"qzRHwD2RIcGNN9m/3e7SwCAjlr97RUY+rlcAwUfJRr/pBW/AhICNwCAAv79TQG7Afx3WQYX1DsDXVOzA1WmJwMi96b+Fb//AdwILwE3husBY9c/A6OXewEFUVMC/kirA3a4Nv4BBAMD9xpnALqpMwRvjPsCt2yzAg2aowMzBWr9PblTAYhMswIjF4bqWea/A02hXwMKF4sAgPC7BvqnWvxu+iL897h7Bl5AiwL2tWMCin5zAMQBGvnSoJ8FB/gTBnVSUv0oQ5L8u2xbA3B0awN5BrsAYjEXBvCF2wHVv6r8+VTzAWwLcvwS8P8BDYY8+mFRVwHcYTL+LIgjBJjRcwE5KnsC4FV/AppEMv0Dg9cAKbZC/ENz9PbOSPcEBTVPBrzIEwG7cy8CrcXk9Id9ovweaKcA0mc3AEbsjwRNqGMA=\",\"dtype\":\"float32\",\"shape\":[80]},\"y\":{\"__ndarray__\":\"9W3RwJH/lcHCHgrBDciHwSA3UsEszTfBpjABQkKse8GiM4XBNKB9wQMdA8HohpnB4FMMPhrrAcHy16LBAAk6wTCEWcESoaLBYSCWwSEoksERyKHBVz5RwQ7EnMHP7kPBuB3JwD8b48CIsIPBZrGSwU6aqsAfla/AamAFQrPwWsHO6YTB9sHjwPEngcHjJYjBFwNmwVDiT8F45gZCzEePwYmwhME08JHB9u/SwPHOdMFAsYvBWLT5wJauoMHUF3jBR7BIwcejmcFF5kfBdYQdwQnzesGwVNTBwWZGwSjOlsERNpPA1qPpwLp6AsFQvVjBTRGLwZGFYsHfF7/BtjOCwXdxi8EPpRXB5/udwVDZf8GKJJDB4iz5wFYqcMEHnhBCc8k0wZFcjsFdlKPBA5kewXqL6MAukFTBKoaZwRNfhsE=\",\"dtype\":\"float32\",\"shape\":[80]}},\"selected\":{\"id\":\"fe9ff525-4996-4dfe-8462-957a1d576d3c\",\"type\":\"Selection\"},\"selection_policy\":{\"id\":\"0bf5fd40-c3cb-4da3-8d89-e55f2fb6b0a5\",\"type\":\"UnionRenderers\"}},\"id\":\"97d7e586-5e6b-41d0-b23a-31ac865bdeed\",\"type\":\"ColumnDataSource\"},{\"attributes\":{},\"id\":\"4074a697-5556-4f63-ab7a-870edd44f2f6\",\"type\":\"BasicTickFormatter\"},{\"attributes\":{\"callback\":null},\"id\":\"84bea065-4f06-47cd-b376-a39e6bb0d412\",\"type\":\"DataRange1d\"},{\"attributes\":{\"plot\":null,\"text\":\"\"},\"id\":\"d3906022-4cc4-40cd-8cc1-bc67b501909c\",\"type\":\"Title\"},{\"attributes\":{\"label\":{\"value\":\"4\"},\"renderers\":[{\"id\":\"3d7a55a9-189f-495e-b7c2-986afcbfaf6e\",\"type\":\"GlyphRenderer\"}]},\"id\":\"bfb07f11-4b6a-4f17-80ed-06749da571c1\",\"type\":\"LegendItem\"},{\"attributes\":{\"callback\":null},\"id\":\"6180ab1a-9721-42b5-8d6a-05253fe319ad\",\"type\":\"DataRange1d\"},{\"attributes\":{},\"id\":\"c256a4ee-c253-4dc5-bdea-9b6167c718e6\",\"type\":\"Selection\"},{\"attributes\":{},\"id\":\"eac38ec2-c2af-4109-9816-f35b3ba67294\",\"type\":\"LinearScale\"},{\"attributes\":{\"fill_alpha\":{\"value\":0.4},\"fill_color\":{\"value\":\"yellow\"},\"line_alpha\":{\"value\":0.4},\"line_color\":{\"value\":\"yellow\"},\"size\":{\"units\":\"screen\",\"value\":7},\"x\":{\"field\":\"x\"},\"y\":{\"field\":\"y\"}},\"id\":\"e6583903-9246-40d2-80e1-5bc38bd64b07\",\"type\":\"Circle\"},{\"attributes\":{},\"id\":\"20315f75-ce98-4b7f-8842-6988e874f192\",\"type\":\"LinearScale\"},{\"attributes\":{\"fill_alpha\":{\"value\":0.1},\"fill_color\":{\"value\":\"#1f77b4\"},\"line_alpha\":{\"value\":0.1},\"line_color\":{\"value\":\"#1f77b4\"},\"size\":{\"units\":\"screen\",\"value\":7},\"x\":{\"field\":\"x\"},\"y\":{\"field\":\"y\"}},\"id\":\"b7722da8-eecc-4ad3-a679-d00c39deb99b\",\"type\":\"Circle\"},{\"attributes\":{\"data_source\":{\"id\":\"97d7e586-5e6b-41d0-b23a-31ac865bdeed\",\"type\":\"ColumnDataSource\"},\"glyph\":{\"id\":\"e6583903-9246-40d2-80e1-5bc38bd64b07\",\"type\":\"Circle\"},\"hover_glyph\":null,\"muted_glyph\":null,\"nonselection_glyph\":{\"id\":\"b7722da8-eecc-4ad3-a679-d00c39deb99b\",\"type\":\"Circle\"},\"selection_glyph\":null,\"view\":{\"id\":\"3bab97f9-e589-4af3-a5a1-3f32ffab84f4\",\"type\":\"CDSView\"}},\"id\":\"9f9961f5-a959-4a03-854d-d2f4cd7471c0\",\"type\":\"GlyphRenderer\"},{\"attributes\":{\"formatter\":{\"id\":\"4074a697-5556-4f63-ab7a-870edd44f2f6\",\"type\":\"BasicTickFormatter\"},\"plot\":{\"id\":\"118ea093-db69-4f6c-8219-7d6d02bcb710\",\"subtype\":\"Figure\",\"type\":\"Plot\"},\"ticker\":{\"id\":\"1481630a-493e-410a-8ddf-021bd8912b2d\",\"type\":\"BasicTicker\"}},\"id\":\"d6dbcb42-66c5-4cc8-9f44-ee13f38d55b8\",\"type\":\"LinearAxis\"},{\"attributes\":{\"source\":{\"id\":\"97d7e586-5e6b-41d0-b23a-31ac865bdeed\",\"type\":\"ColumnDataSource\"}},\"id\":\"3bab97f9-e589-4af3-a5a1-3f32ffab84f4\",\"type\":\"CDSView\"},{\"attributes\":{},\"id\":\"1481630a-493e-410a-8ddf-021bd8912b2d\",\"type\":\"BasicTicker\"},{\"attributes\":{},\"id\":\"8f657967-7c88-4c1b-8e84-3ad0bca5662e\",\"type\":\"UnionRenderers\"},{\"attributes\":{\"plot\":{\"id\":\"118ea093-db69-4f6c-8219-7d6d02bcb710\",\"subtype\":\"Figure\",\"type\":\"Plot\"},\"ticker\":{\"id\":\"1481630a-493e-410a-8ddf-021bd8912b2d\",\"type\":\"BasicTicker\"}},\"id\":\"e128acd7-ece8-4444-b09f-5571685fafd3\",\"type\":\"Grid\"},{\"attributes\":{\"formatter\":{\"id\":\"310c8f11-6e01-4930-9036-5e46e4dfa7d3\",\"type\":\"BasicTickFormatter\"},\"plot\":{\"id\":\"118ea093-db69-4f6c-8219-7d6d02bcb710\",\"subtype\":\"Figure\",\"type\":\"Plot\"},\"ticker\":{\"id\":\"9b5fb7f4-7f74-4a7e-8f23-3b0ff93f9769\",\"type\":\"BasicTicker\"}},\"id\":\"2af56ee2-88bc-4b85-a017-5dc824772d1e\",\"type\":\"LinearAxis\"},{\"attributes\":{\"label\":{\"value\":\"5\"},\"renderers\":[{\"id\":\"9f9961f5-a959-4a03-854d-d2f4cd7471c0\",\"type\":\"GlyphRenderer\"}]},\"id\":\"dd17beed-7dd2-4dac-876c-bb49e2a78a94\",\"type\":\"LegendItem\"},{\"attributes\":{},\"id\":\"9b5fb7f4-7f74-4a7e-8f23-3b0ff93f9769\",\"type\":\"BasicTicker\"},{\"attributes\":{\"callback\":null,\"data\":{\"x\":{\"__ndarray__\":\"kDTbwHJSk8B9ovTAnrAPwT4uKMHTle3A34+owOtQKcCOGS3BG6AVwZpKisD9vzzBMM+8wJKa6MAATzrBSTWvwIDnzcA3/BPBuBPhwLRebcBr8k/AjI2HwNbOfsDcXZrA8iMywVDTucC8pAHB/mshwbI43cD6FqjAFxOzwAbfrcD8i7LBjLEHwRYm68AUexLBPfiMwAVw1MAJXrPB8r8OwV94ecCSyIDA3lTowKKX8r/lRNu/3OoEwckIGsHk8APBSHJ/wHp0IcHCKmbAoH0MwAH7LsHGnqDAmKSCwIfPUcAKRrTAvWS7wL6vssCUVd/AlGgZwd0BE8F5AMrAtWAEwX/wu8CbQwHCFZeGwPmvEMFwZADB8IRNwFdmlsDTaprAxjYFwTRXCcFcefjAi0/1wFm25sADHR3BNMbGwNzTG8ADA4HANImrwCZa38CGRp7AVqUewPbHicCsbevAzp8EwQ==\",\"dtype\":\"float32\",\"shape\":[88]},\"y\":{\"__ndarray__\":\"FX4iQuN+EUKtKTBCivsIQm8yJULbSwdChTMcQrjyIUIgYSdCkecPQrMVLkJ3PhRCzrEQQjVwL0IHzxZCjwgMQhUDL0K8ZSpC4VkGQt4iC0K97ipCdIkgQkawFULLnjNCvacdQt5QC0JhSg9Ck7wfQj+GKUJZKxRC/PEnQhK2BkIYb85AG1sSQixtDUI+fhpCNHdmwapfC0JpZsdA+3QKQinGD0JkjhtCjZslQkTrHEIf5BdC7AklQuXjDkIIJSBChdYYQnuhGkJMZS1CwzcxQsufG0LjtyNCC50qQiTcKEJ/GS5CyUodQnzNE0I3nRhCOEoXQljCJUIITjFCFTYJQhQQHkJvlmpBJronQiBtFUKoJxdCa2kXQrweF0IjaTFCbnYiQjl4J0LPSxlC5gMuQl78FkJT+Q1C75smQivbJ0L77yFCp2UqQgDqEkLXaApCmUUxQl4LDkI8/gFCK8QeQg==\",\"dtype\":\"float32\",\"shape\":[88]}},\"selected\":{\"id\":\"133fd673-51bc-4451-9cbc-0cfb13c5b52e\",\"type\":\"Selection\"},\"selection_policy\":{\"id\":\"5cedfc3c-0c5c-4433-8b36-023a5e6d9962\",\"type\":\"UnionRenderers\"}},\"id\":\"6b7b8261-c568-4bed-a799-88f0dc75cac2\",\"type\":\"ColumnDataSource\"},{\"attributes\":{\"dimension\":1,\"plot\":{\"id\":\"118ea093-db69-4f6c-8219-7d6d02bcb710\",\"subtype\":\"Figure\",\"type\":\"Plot\"},\"ticker\":{\"id\":\"9b5fb7f4-7f74-4a7e-8f23-3b0ff93f9769\",\"type\":\"BasicTicker\"}},\"id\":\"dbcb77ba-7d28-4d34-9ae3-7f1659a37f04\",\"type\":\"Grid\"},{\"attributes\":{\"data_source\":{\"id\":\"6b7b8261-c568-4bed-a799-88f0dc75cac2\",\"type\":\"ColumnDataSource\"},\"glyph\":{\"id\":\"721862af-e2a6-4c40-b3b8-a814109a83d4\",\"type\":\"Circle\"},\"hover_glyph\":null,\"muted_glyph\":null,\"nonselection_glyph\":{\"id\":\"8592b7da-4adc-4215-9a38-83cc056923f1\",\"type\":\"Circle\"},\"selection_glyph\":null,\"view\":{\"id\":\"abda4dac-6748-4041-bc5d-1912b1f035d5\",\"type\":\"CDSView\"}},\"id\":\"30f4a790-9c62-4d25-8c12-2c919acd40eb\",\"type\":\"GlyphRenderer\"},{\"attributes\":{\"data_source\":{\"id\":\"eec07028-10eb-430d-bbc0-bbe0e6f37654\",\"type\":\"ColumnDataSource\"},\"glyph\":{\"id\":\"5e931563-5d20-4a23-bf97-acae1aae0eb3\",\"type\":\"Circle\"},\"hover_glyph\":null,\"muted_glyph\":null,\"nonselection_glyph\":{\"id\":\"5a2d01ed-3610-498d-a6da-7c4b2a9f70e1\",\"type\":\"Circle\"},\"selection_glyph\":null,\"view\":{\"id\":\"86520c8f-6e47-490e-beb7-8b4a9f41e8c6\",\"type\":\"CDSView\"}},\"id\":\"767f97a3-67bf-4e47-85c9-400eb7d11ee3\",\"type\":\"GlyphRenderer\"},{\"attributes\":{\"fill_alpha\":{\"value\":0.4},\"fill_color\":{\"value\":\"black\"},\"line_alpha\":{\"value\":0.4},\"size\":{\"units\":\"screen\",\"value\":7},\"x\":{\"field\":\"x\"},\"y\":{\"field\":\"y\"}},\"id\":\"721862af-e2a6-4c40-b3b8-a814109a83d4\",\"type\":\"Circle\"},{\"attributes\":{\"fill_alpha\":{\"value\":0.1},\"fill_color\":{\"value\":\"#1f77b4\"},\"line_alpha\":{\"value\":0.1},\"line_color\":{\"value\":\"#1f77b4\"},\"size\":{\"units\":\"screen\",\"value\":7},\"x\":{\"field\":\"x\"},\"y\":{\"field\":\"y\"}},\"id\":\"8592b7da-4adc-4215-9a38-83cc056923f1\",\"type\":\"Circle\"}],\"root_ids\":[\"118ea093-db69-4f6c-8219-7d6d02bcb710\"]},\"title\":\"Bokeh Application\",\"version\":\"0.13.0\"}};\n",
       "  var render_items = [{\"docid\":\"012d3dfb-0cd7-4b18-a33c-e394619926b9\",\"roots\":{\"118ea093-db69-4f6c-8219-7d6d02bcb710\":\"c5ee1a5d-2e10-4544-aff0-8e50e42a5543\"}}];\n",
       "  root.Bokeh.embed.embed_items_notebook(docs_json, render_items);\n",
       "\n",
       "  }\n",
       "  if (root.Bokeh !== undefined) {\n",
       "    embed_document(root);\n",
       "  } else {\n",
       "    var attempts = 0;\n",
       "    var timer = setInterval(function(root) {\n",
       "      if (root.Bokeh !== undefined) {\n",
       "        embed_document(root);\n",
       "        clearInterval(timer);\n",
       "      }\n",
       "      attempts++;\n",
       "      if (attempts > 100) {\n",
       "        console.log(\"Bokeh: ERROR: Unable to run BokehJS code because BokehJS library is missing\")\n",
       "        clearInterval(timer);\n",
       "      }\n",
       "    }, 10, root)\n",
       "  }\n",
       "})(window);"
      ],
      "application/vnd.bokehjs_exec.v0+json": ""
     },
     "metadata": {
      "application/vnd.bokehjs_exec.v0+json": {
       "id": "118ea093-db69-4f6c-8219-7d6d02bcb710"
      }
     },
     "output_type": "display_data"
    }
   ],
   "source": [
    "p = figure(plot_width=600, plot_height=600)\n",
    "\n",
    "colors = [x for x in 'blue-green-red-cyan-magenta-yellow-black-purple-coral-lime'.split('-')]\n",
    "colors_map = colors_map[:1000]\n",
    "for cl in range(nb_classes):\n",
    "    indices = np.where(colors_map==cl)\n",
    "    p.circle(X_tsne[indices, 0].ravel(), X_tsne[indices, 1].ravel(), size=7, \n",
    "             color=colors[cl], alpha=0.4, legend=str(cl))\n",
    "\n",
    "# show the results\n",
    "p.legend.location = 'bottom_right'\n",
    "show(p)"
   ]
  }
 ],
 "metadata": {
  "kernelspec": {
   "display_name": "work",
   "language": "python",
   "name": "work"
  },
  "language_info": {
   "codemirror_mode": {
    "name": "ipython",
    "version": 3
   },
   "file_extension": ".py",
   "mimetype": "text/x-python",
   "name": "python",
   "nbconvert_exporter": "python",
   "pygments_lexer": "ipython3",
   "version": "3.6.5"
  }
 },
 "nbformat": 4,
 "nbformat_minor": 2
}
