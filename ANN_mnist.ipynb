{
 "cells": [
  {
   "cell_type": "code",
   "execution_count": 2,
   "metadata": {},
   "outputs": [
    {
     "name": "stderr",
     "output_type": "stream",
     "text": [
      "C:\\Users\\shrisha.bharadwaj\\AppData\\Local\\Continuum\\anaconda3\\lib\\site-packages\\h5py\\__init__.py:36: FutureWarning: Conversion of the second argument of issubdtype from `float` to `np.floating` is deprecated. In future, it will be treated as `np.float64 == np.dtype(float).type`.\n",
      "  from ._conv import register_converters as _register_converters\n",
      "Using TensorFlow backend.\n"
     ]
    }
   ],
   "source": [
    "import keras\n",
    "import numpy as np\n",
    "import pandas as pd\n",
    "import matplotlib.pyplot as plt"
   ]
  },
  {
   "cell_type": "code",
   "execution_count": 3,
   "metadata": {},
   "outputs": [
    {
     "name": "stdout",
     "output_type": "stream",
     "text": [
      "C:\\Users\\shrisha.bharadwaj\n"
     ]
    }
   ],
   "source": [
    "import os\n",
    "print(os.getcwd())\n",
    "#print(os.listdir())"
   ]
  },
  {
   "cell_type": "code",
   "execution_count": 4,
   "metadata": {},
   "outputs": [],
   "source": [
    "Train = pd.read_csv(\"code/ML/msnit/data/train.csv\",)\n",
    "Test = pd.read_csv(\"code/ML/msnit/data/test.csv\")"
   ]
  },
  {
   "cell_type": "code",
   "execution_count": 5,
   "metadata": {},
   "outputs": [],
   "source": [
    "X_train = Train.drop(['label'],axis=1)\n",
    "y_train = Train.loc[:,'label']"
   ]
  },
  {
   "cell_type": "code",
   "execution_count": 6,
   "metadata": {},
   "outputs": [],
   "source": [
    "y_train = keras.utils.to_categorical(y_train, 10)"
   ]
  },
  {
   "cell_type": "code",
   "execution_count": 7,
   "metadata": {},
   "outputs": [],
   "source": [
    "X_train /= 255\n",
    "X_train = X_train.astype('float32')"
   ]
  },
  {
   "cell_type": "code",
   "execution_count": null,
   "metadata": {},
   "outputs": [],
   "source": []
  },
  {
   "cell_type": "code",
   "execution_count": 8,
   "metadata": {},
   "outputs": [],
   "source": [
    "from keras.models import Sequential\n",
    "from keras.layers import Dense, Dropout\n",
    "from keras.optimizers import Adam, SGD, RMSprop"
   ]
  },
  {
   "cell_type": "code",
   "execution_count": 9,
   "metadata": {},
   "outputs": [],
   "source": [
    "model = Sequential()\n",
    "model.add(Dense(512, input_dim = 784, activation = 'relu'))\n",
    "model.add(Dropout(0.2))\n",
    "model.add(Dense(512, activation = 'relu'))\n",
    "model.add(Dropout(0.2))\n",
    "model.add(Dense(10, activation = 'softmax'))"
   ]
  },
  {
   "cell_type": "code",
   "execution_count": 10,
   "metadata": {},
   "outputs": [
    {
     "name": "stdout",
     "output_type": "stream",
     "text": [
      "_________________________________________________________________\n",
      "Layer (type)                 Output Shape              Param #   \n",
      "=================================================================\n",
      "dense_1 (Dense)              (None, 512)               401920    \n",
      "_________________________________________________________________\n",
      "dropout_1 (Dropout)          (None, 512)               0         \n",
      "_________________________________________________________________\n",
      "dense_2 (Dense)              (None, 512)               262656    \n",
      "_________________________________________________________________\n",
      "dropout_2 (Dropout)          (None, 512)               0         \n",
      "_________________________________________________________________\n",
      "dense_3 (Dense)              (None, 10)                5130      \n",
      "=================================================================\n",
      "Total params: 669,706\n",
      "Trainable params: 669,706\n",
      "Non-trainable params: 0\n",
      "_________________________________________________________________\n"
     ]
    }
   ],
   "source": [
    "model.summary()\n",
    "model.compile(loss='categorical_crossentropy',optimizer=RMSprop(lr=0.001), metrics=['accuracy'])"
   ]
  },
  {
   "cell_type": "code",
   "execution_count": 11,
   "metadata": {},
   "outputs": [
    {
     "name": "stdout",
     "output_type": "stream",
     "text": [
      "Epoch 1/15\n",
      "42000/42000 [==============================] - 12s 285us/step - loss: 0.2904 - acc: 0.9099\n",
      "Epoch 2/15\n",
      "42000/42000 [==============================] - 12s 288us/step - loss: 0.1151 - acc: 0.96500s - loss: 0.1157 - a\n",
      "Epoch 3/15\n",
      "42000/42000 [==============================] - 12s 284us/step - loss: 0.0805 - acc: 0.9751\n",
      "Epoch 4/15\n",
      "42000/42000 [==============================] - 12s 293us/step - loss: 0.0644 - acc: 0.9799\n",
      "Epoch 5/15\n",
      "42000/42000 [==============================] - 15s 351us/step - loss: 0.0506 - acc: 0.9845\n",
      "Epoch 6/15\n",
      "42000/42000 [==============================] - 15s 346us/step - loss: 0.0414 - acc: 0.9873\n",
      "Epoch 7/15\n",
      "42000/42000 [==============================] - 14s 331us/step - loss: 0.0377 - acc: 0.9879\n",
      "Epoch 8/15\n",
      "42000/42000 [==============================] - 13s 300us/step - loss: 0.0320 - acc: 0.9901\n",
      "Epoch 9/15\n",
      "42000/42000 [==============================] - 12s 295us/step - loss: 0.0284 - acc: 0.9911\n",
      "Epoch 10/15\n",
      "42000/42000 [==============================] - 13s 313us/step - loss: 0.0250 - acc: 0.9922\n",
      "Epoch 11/15\n",
      "42000/42000 [==============================] - 12s 289us/step - loss: 0.0228 - acc: 0.9924\n",
      "Epoch 12/15\n",
      "42000/42000 [==============================] - 13s 301us/step - loss: 0.0207 - acc: 0.9937\n",
      "Epoch 13/15\n",
      "42000/42000 [==============================] - 13s 309us/step - loss: 0.0209 - acc: 0.9936\n",
      "Epoch 14/15\n",
      "42000/42000 [==============================] - 13s 306us/step - loss: 0.0187 - acc: 0.9942\n",
      "Epoch 15/15\n",
      "42000/42000 [==============================] - 14s 333us/step - loss: 0.0173 - acc: 0.9948\n"
     ]
    },
    {
     "data": {
      "text/plain": [
       "<keras.callbacks.History at 0x150a851a6a0>"
      ]
     },
     "execution_count": 11,
     "metadata": {},
     "output_type": "execute_result"
    }
   ],
   "source": [
    "model.fit(X_train, y_train, epochs= 15, batch_size = 128)"
   ]
  },
  {
   "cell_type": "code",
   "execution_count": 12,
   "metadata": {},
   "outputs": [
    {
     "name": "stdout",
     "output_type": "stream",
     "text": [
      "42000/42000 [==============================] - 7s 155us/step\n",
      "\n",
      "acc: 99.75%\n",
      "\n",
      "loss: 0.77%\n"
     ]
    }
   ],
   "source": [
    "scores = model.evaluate(X_train, y_train)\n",
    "print(\"\\n%s: %.2f%%\" % (model.metrics_names[1], scores[1]*100))\n",
    "print(\"\\n%s: %.2f%%\" % (model.metrics_names[0], scores[0]*100))"
   ]
  },
  {
   "cell_type": "code",
   "execution_count": 13,
   "metadata": {},
   "outputs": [
    {
     "data": {
      "text/plain": [
       "array([[0., 0., 1., ..., 0., 0., 0.],\n",
       "       [1., 0., 0., ..., 0., 0., 0.],\n",
       "       [0., 0., 0., ..., 0., 0., 1.],\n",
       "       ...,\n",
       "       [0., 0., 0., ..., 0., 0., 0.],\n",
       "       [0., 0., 0., ..., 0., 0., 1.],\n",
       "       [0., 0., 1., ..., 0., 0., 0.]], dtype=float32)"
      ]
     },
     "execution_count": 13,
     "metadata": {},
     "output_type": "execute_result"
    }
   ],
   "source": [
    "y_test = model.predict(Test)\n",
    "y_test"
   ]
  },
  {
   "cell_type": "code",
   "execution_count": 14,
   "metadata": {},
   "outputs": [
    {
     "name": "stdout",
     "output_type": "stream",
     "text": [
      "28000/28000 [==============================] - 4s 156us/step\n",
      "\n",
      "acc: 100.00%\n",
      "\n",
      "loss: 0.01%\n"
     ]
    }
   ],
   "source": [
    "scores = model.evaluate(Test, y_test)\n",
    "print(\"\\n%s: %.2f%%\" % (model.metrics_names[1], scores[1]*100))\n",
    "print(\"\\n%s: %.2f%%\" % (model.metrics_names[0], scores[0]*100))\n"
   ]
  },
  {
   "cell_type": "code",
   "execution_count": 15,
   "metadata": {},
   "outputs": [
    {
     "data": {
      "text/plain": [
       "(28000, 10)"
      ]
     },
     "execution_count": 15,
     "metadata": {},
     "output_type": "execute_result"
    }
   ],
   "source": [
    "y_test.shape"
   ]
  },
  {
   "cell_type": "code",
   "execution_count": 54,
   "metadata": {},
   "outputs": [],
   "source": [
    "y_list = list()\n",
    "count_list = list()\n",
    "count = 0\n",
    "for each in y_test:\n",
    "    y_new = np.argmax(each)\n",
    "    count = count + 1\n",
    "    int(y_new)\n",
    "    #print(y_new)\n",
    "    y_list.append(y_new)\n",
    "    count_list.append(count)\n",
    "    \n",
    "# from sklearn.preprocessing import StandardScaler\n",
    "# y_new = scalery.inverse_transform(y_test)"
   ]
  },
  {
   "cell_type": "code",
   "execution_count": null,
   "metadata": {},
   "outputs": [],
   "source": []
  },
  {
   "cell_type": "code",
   "execution_count": 56,
   "metadata": {},
   "outputs": [
    {
     "name": "stdout",
     "output_type": "stream",
     "text": [
      "Saved file: Digit Recognizer Predictions 1.csv\n"
     ]
    }
   ],
   "source": [
    "submission = pd.DataFrame({'ImageId':count_list,'Label':y_list})\n",
    "submission.head()\n",
    "\n",
    "filename = 'Digit Recognizer Predictions 1.csv'\n",
    "\n",
    "submission.to_csv(filename,index=False)\n",
    "\n",
    "print('Saved file: ' + filename)"
   ]
  }
 ],
 "metadata": {
  "kernelspec": {
   "display_name": "Python 3",
   "language": "python",
   "name": "python3"
  },
  "language_info": {
   "codemirror_mode": {
    "name": "ipython",
    "version": 3
   },
   "file_extension": ".py",
   "mimetype": "text/x-python",
   "name": "python",
   "nbconvert_exporter": "python",
   "pygments_lexer": "ipython3",
   "version": "3.6.5"
  }
 },
 "nbformat": 4,
 "nbformat_minor": 2
}
